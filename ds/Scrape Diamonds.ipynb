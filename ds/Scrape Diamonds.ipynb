{
 "cells": [
  {
   "cell_type": "markdown",
   "metadata": {},
   "source": [
    "# Scrape Diamonds\n",
    "Find web request URL that site is using to get data. This is found in network tab of developers tools. Only 20 rows at a time are possible. The `rowStart` steps 20 each iteration."
   ]
  },
  {
   "cell_type": "code",
   "execution_count": 31,
   "metadata": {},
   "outputs": [],
   "source": [
    "import pandas as pd\n",
    "import requests\n",
    "\n",
    "url = 'http://www.diamondse.info/webService.php?shape=none&minCarat=0.2&maxCarat=30&minColor=1'\\\n",
    "      '&maxColor=9&minPrice=100&maxPrice=100000&minCut=5&maxCut=1&minClarity=1&maxClarity=10'\\\n",
    "      '&minDepth=0&maxDepth=90&minWidth=0&maxWidth=90&gia=1&ags=1&egl=0&oth=0&currency=USD'\\\n",
    "      '&rowStart={}&sortCol=price&sortDir=DESC'\n",
    "\n",
    "dfs = []\n",
    "start = 0\n",
    "step = 20\n",
    "pages = 1000\n",
    "stop = step * pages\n",
    "for row in range(start, stop, step):\n",
    "    r = requests.get(url.format(row))\n",
    "    table = f\"<table>{r.text}</table>\"\n",
    "    dfs.extend(pd.read_html(table))"
   ]
  },
  {
   "cell_type": "code",
   "execution_count": 32,
   "metadata": {},
   "outputs": [
    {
     "data": {
      "text/html": [
       "<div>\n",
       "<style scoped>\n",
       "    .dataframe tbody tr th:only-of-type {\n",
       "        vertical-align: middle;\n",
       "    }\n",
       "\n",
       "    .dataframe tbody tr th {\n",
       "        vertical-align: top;\n",
       "    }\n",
       "\n",
       "    .dataframe thead th {\n",
       "        text-align: right;\n",
       "    }\n",
       "</style>\n",
       "<table border=\"1\" class=\"dataframe\">\n",
       "  <thead>\n",
       "    <tr style=\"text-align: right;\">\n",
       "      <th></th>\n",
       "      <th>shape</th>\n",
       "      <th>carat</th>\n",
       "      <th>cut</th>\n",
       "      <th>color</th>\n",
       "      <th>clarity</th>\n",
       "      <th>table</th>\n",
       "      <th>depth</th>\n",
       "      <th>cert</th>\n",
       "      <th>price</th>\n",
       "      <th>x</th>\n",
       "      <th>y</th>\n",
       "      <th>z</th>\n",
       "    </tr>\n",
       "  </thead>\n",
       "  <tbody>\n",
       "    <tr>\n",
       "      <th>0</th>\n",
       "      <td>Round</td>\n",
       "      <td>1.30</td>\n",
       "      <td>Ideal</td>\n",
       "      <td>F</td>\n",
       "      <td>SI1</td>\n",
       "      <td>57.0</td>\n",
       "      <td>62.3</td>\n",
       "      <td>GIA</td>\n",
       "      <td>9479</td>\n",
       "      <td>6.95</td>\n",
       "      <td>7.00</td>\n",
       "      <td>4.34</td>\n",
       "    </tr>\n",
       "    <tr>\n",
       "      <th>1</th>\n",
       "      <td>Cushion</td>\n",
       "      <td>2.02</td>\n",
       "      <td>V.Good</td>\n",
       "      <td>J</td>\n",
       "      <td>VS2</td>\n",
       "      <td>69.0</td>\n",
       "      <td>64.1</td>\n",
       "      <td>GIA</td>\n",
       "      <td>9479</td>\n",
       "      <td>8.46</td>\n",
       "      <td>6.72</td>\n",
       "      <td>4.30</td>\n",
       "    </tr>\n",
       "    <tr>\n",
       "      <th>2</th>\n",
       "      <td>Oval</td>\n",
       "      <td>1.50</td>\n",
       "      <td>Good</td>\n",
       "      <td>E</td>\n",
       "      <td>SI1</td>\n",
       "      <td>57.0</td>\n",
       "      <td>68.8</td>\n",
       "      <td>GIA</td>\n",
       "      <td>9479</td>\n",
       "      <td>8.65</td>\n",
       "      <td>6.08</td>\n",
       "      <td>4.18</td>\n",
       "    </tr>\n",
       "    <tr>\n",
       "      <th>3</th>\n",
       "      <td>Cushion</td>\n",
       "      <td>2.01</td>\n",
       "      <td>Ideal</td>\n",
       "      <td>I</td>\n",
       "      <td>VS2</td>\n",
       "      <td>61.0</td>\n",
       "      <td>69.2</td>\n",
       "      <td>GIA</td>\n",
       "      <td>9478</td>\n",
       "      <td>7.33</td>\n",
       "      <td>7.14</td>\n",
       "      <td>42.00</td>\n",
       "    </tr>\n",
       "    <tr>\n",
       "      <th>4</th>\n",
       "      <td>Round</td>\n",
       "      <td>1.36</td>\n",
       "      <td>Ideal</td>\n",
       "      <td>H</td>\n",
       "      <td>VS2</td>\n",
       "      <td>58.0</td>\n",
       "      <td>62.1</td>\n",
       "      <td>GIA</td>\n",
       "      <td>9478</td>\n",
       "      <td>7.10</td>\n",
       "      <td>7.07</td>\n",
       "      <td>4.40</td>\n",
       "    </tr>\n",
       "  </tbody>\n",
       "</table>\n",
       "</div>"
      ],
      "text/plain": [
       "     shape  carat     cut color clarity  table  depth cert  price     x     y  \\\n",
       "0    Round   1.30   Ideal     F     SI1   57.0   62.3  GIA   9479  6.95  7.00   \n",
       "1  Cushion   2.02  V.Good     J     VS2   69.0   64.1  GIA   9479  8.46  6.72   \n",
       "2     Oval   1.50    Good     E     SI1   57.0   68.8  GIA   9479  8.65  6.08   \n",
       "3  Cushion   2.01   Ideal     I     VS2   61.0   69.2  GIA   9478  7.33  7.14   \n",
       "4    Round   1.36   Ideal     H     VS2   58.0   62.1  GIA   9478  7.10  7.07   \n",
       "\n",
       "       z  \n",
       "0   4.34  \n",
       "1   4.30  \n",
       "2   4.18  \n",
       "3  42.00  \n",
       "4   4.40  "
      ]
     },
     "execution_count": 32,
     "metadata": {},
     "output_type": "execute_result"
    }
   ],
   "source": [
    "# clean up\n",
    "\n",
    "dia = pd.concat(dfs, ignore_index=True)\n",
    "dia2 = dia.iloc[:, 1:11]\n",
    "dia2.columns = ['shape', 'carat', 'cut', 'color', 'clarity', 'table', 'depth', 'cert', 'xyz', 'price']\n",
    "dia2['price'] = dia2['price'].str.replace(r'[$,]', '').astype('int')\n",
    "dia2[['x', 'y', 'z']] = dia2['xyz'].str.extract('([0-9.]*) x ([0-9.]*) x ([0-9.]*)').astype('float')\n",
    "dia3 = dia2.drop(columns='xyz')\n",
    "dia3.head()"
   ]
  },
  {
   "cell_type": "code",
   "execution_count": 33,
   "metadata": {},
   "outputs": [
    {
     "data": {
      "text/plain": [
       "(20000, 12)"
      ]
     },
     "execution_count": 33,
     "metadata": {},
     "output_type": "execute_result"
    }
   ],
   "source": [
    "dia3.shape"
   ]
  }
 ],
 "metadata": {
  "kernelspec": {
   "display_name": "Python 3",
   "language": "python",
   "name": "python3"
  },
  "language_info": {
   "codemirror_mode": {
    "name": "ipython",
    "version": 3
   },
   "file_extension": ".py",
   "mimetype": "text/x-python",
   "name": "python",
   "nbconvert_exporter": "python",
   "pygments_lexer": "ipython3",
   "version": "3.6.4"
  }
 },
 "nbformat": 4,
 "nbformat_minor": 2
}
