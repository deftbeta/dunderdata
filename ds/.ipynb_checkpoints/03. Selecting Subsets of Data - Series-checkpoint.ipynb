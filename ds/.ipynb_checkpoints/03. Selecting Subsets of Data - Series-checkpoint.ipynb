{
 "cells": [
  {
   "cell_type": "markdown",
   "metadata": {},
   "source": [
    "# 3. Selecting Subsets of Data - Series\n",
    "\n",
    "### Overview\n",
    "This notebook will teach you how to select a subset of data from a Series."
   ]
  },
  {
   "cell_type": "markdown",
   "metadata": {},
   "source": [
    "# Using Dot Notation to Select a Column as a Series\n",
    "The last notebook showed how to use *just the brackets* to select a single column as a Series. Another common way to do this uses dot notation. Place the column name following a dot after the name of your DataFrame.\n",
    "\n",
    "Let's read in the movie dataset, set the index as the title and then select the year with dot notation."
   ]
  },
  {
   "cell_type": "code",
   "execution_count": 1,
   "metadata": {},
   "outputs": [
    {
     "data": {
      "text/html": [
       "<div>\n",
       "<style scoped>\n",
       "    .dataframe tbody tr th:only-of-type {\n",
       "        vertical-align: middle;\n",
       "    }\n",
       "\n",
       "    .dataframe tbody tr th {\n",
       "        vertical-align: top;\n",
       "    }\n",
       "\n",
       "    .dataframe thead th {\n",
       "        text-align: right;\n",
       "    }\n",
       "</style>\n",
       "<table border=\"1\" class=\"dataframe\">\n",
       "  <thead>\n",
       "    <tr style=\"text-align: right;\">\n",
       "      <th></th>\n",
       "      <th>year</th>\n",
       "      <th>color</th>\n",
       "      <th>content_rating</th>\n",
       "      <th>duration</th>\n",
       "      <th>director_name</th>\n",
       "      <th>director_fb</th>\n",
       "      <th>actor1</th>\n",
       "      <th>actor1_fb</th>\n",
       "      <th>actor2</th>\n",
       "      <th>actor2_fb</th>\n",
       "      <th>...</th>\n",
       "      <th>actor3_fb</th>\n",
       "      <th>gross</th>\n",
       "      <th>genres</th>\n",
       "      <th>num_reviews</th>\n",
       "      <th>num_voted_users</th>\n",
       "      <th>plot_keywords</th>\n",
       "      <th>language</th>\n",
       "      <th>country</th>\n",
       "      <th>budget</th>\n",
       "      <th>imdb_score</th>\n",
       "    </tr>\n",
       "    <tr>\n",
       "      <th>title</th>\n",
       "      <th></th>\n",
       "      <th></th>\n",
       "      <th></th>\n",
       "      <th></th>\n",
       "      <th></th>\n",
       "      <th></th>\n",
       "      <th></th>\n",
       "      <th></th>\n",
       "      <th></th>\n",
       "      <th></th>\n",
       "      <th></th>\n",
       "      <th></th>\n",
       "      <th></th>\n",
       "      <th></th>\n",
       "      <th></th>\n",
       "      <th></th>\n",
       "      <th></th>\n",
       "      <th></th>\n",
       "      <th></th>\n",
       "      <th></th>\n",
       "      <th></th>\n",
       "    </tr>\n",
       "  </thead>\n",
       "  <tbody>\n",
       "    <tr>\n",
       "      <th>Avatar</th>\n",
       "      <td>2009.0</td>\n",
       "      <td>Color</td>\n",
       "      <td>PG-13</td>\n",
       "      <td>178.0</td>\n",
       "      <td>James Cameron</td>\n",
       "      <td>0.0</td>\n",
       "      <td>CCH Pounder</td>\n",
       "      <td>1000.0</td>\n",
       "      <td>Joel David Moore</td>\n",
       "      <td>936.0</td>\n",
       "      <td>...</td>\n",
       "      <td>855.0</td>\n",
       "      <td>760505847.0</td>\n",
       "      <td>Action|Adventure|Fantasy|Sci-Fi</td>\n",
       "      <td>723.0</td>\n",
       "      <td>886204</td>\n",
       "      <td>avatar|future|marine|native|paraplegic</td>\n",
       "      <td>English</td>\n",
       "      <td>USA</td>\n",
       "      <td>237000000.0</td>\n",
       "      <td>7.9</td>\n",
       "    </tr>\n",
       "    <tr>\n",
       "      <th>Pirates of the Caribbean: At World's End</th>\n",
       "      <td>2007.0</td>\n",
       "      <td>Color</td>\n",
       "      <td>PG-13</td>\n",
       "      <td>169.0</td>\n",
       "      <td>Gore Verbinski</td>\n",
       "      <td>563.0</td>\n",
       "      <td>Johnny Depp</td>\n",
       "      <td>40000.0</td>\n",
       "      <td>Orlando Bloom</td>\n",
       "      <td>5000.0</td>\n",
       "      <td>...</td>\n",
       "      <td>1000.0</td>\n",
       "      <td>309404152.0</td>\n",
       "      <td>Action|Adventure|Fantasy</td>\n",
       "      <td>302.0</td>\n",
       "      <td>471220</td>\n",
       "      <td>goddess|marriage ceremony|marriage proposal|pi...</td>\n",
       "      <td>English</td>\n",
       "      <td>USA</td>\n",
       "      <td>300000000.0</td>\n",
       "      <td>7.1</td>\n",
       "    </tr>\n",
       "    <tr>\n",
       "      <th>Spectre</th>\n",
       "      <td>2015.0</td>\n",
       "      <td>Color</td>\n",
       "      <td>PG-13</td>\n",
       "      <td>148.0</td>\n",
       "      <td>Sam Mendes</td>\n",
       "      <td>0.0</td>\n",
       "      <td>Christoph Waltz</td>\n",
       "      <td>11000.0</td>\n",
       "      <td>Rory Kinnear</td>\n",
       "      <td>393.0</td>\n",
       "      <td>...</td>\n",
       "      <td>161.0</td>\n",
       "      <td>200074175.0</td>\n",
       "      <td>Action|Adventure|Thriller</td>\n",
       "      <td>602.0</td>\n",
       "      <td>275868</td>\n",
       "      <td>bomb|espionage|sequel|spy|terrorist</td>\n",
       "      <td>English</td>\n",
       "      <td>UK</td>\n",
       "      <td>245000000.0</td>\n",
       "      <td>6.8</td>\n",
       "    </tr>\n",
       "    <tr>\n",
       "      <th>The Dark Knight Rises</th>\n",
       "      <td>2012.0</td>\n",
       "      <td>Color</td>\n",
       "      <td>PG-13</td>\n",
       "      <td>164.0</td>\n",
       "      <td>Christopher Nolan</td>\n",
       "      <td>22000.0</td>\n",
       "      <td>Tom Hardy</td>\n",
       "      <td>27000.0</td>\n",
       "      <td>Christian Bale</td>\n",
       "      <td>23000.0</td>\n",
       "      <td>...</td>\n",
       "      <td>23000.0</td>\n",
       "      <td>448130642.0</td>\n",
       "      <td>Action|Thriller</td>\n",
       "      <td>813.0</td>\n",
       "      <td>1144337</td>\n",
       "      <td>deception|imprisonment|lawlessness|police offi...</td>\n",
       "      <td>English</td>\n",
       "      <td>USA</td>\n",
       "      <td>250000000.0</td>\n",
       "      <td>8.5</td>\n",
       "    </tr>\n",
       "    <tr>\n",
       "      <th>Star Wars: Episode VII - The Force Awakens</th>\n",
       "      <td>NaN</td>\n",
       "      <td>NaN</td>\n",
       "      <td>NaN</td>\n",
       "      <td>NaN</td>\n",
       "      <td>Doug Walker</td>\n",
       "      <td>131.0</td>\n",
       "      <td>Doug Walker</td>\n",
       "      <td>131.0</td>\n",
       "      <td>Rob Walker</td>\n",
       "      <td>12.0</td>\n",
       "      <td>...</td>\n",
       "      <td>NaN</td>\n",
       "      <td>NaN</td>\n",
       "      <td>Documentary</td>\n",
       "      <td>NaN</td>\n",
       "      <td>8</td>\n",
       "      <td>NaN</td>\n",
       "      <td>NaN</td>\n",
       "      <td>NaN</td>\n",
       "      <td>NaN</td>\n",
       "      <td>7.1</td>\n",
       "    </tr>\n",
       "  </tbody>\n",
       "</table>\n",
       "<p>5 rows × 21 columns</p>\n",
       "</div>"
      ],
      "text/plain": [
       "                                              year  color content_rating  \\\n",
       "title                                                                      \n",
       "Avatar                                      2009.0  Color          PG-13   \n",
       "Pirates of the Caribbean: At World's End    2007.0  Color          PG-13   \n",
       "Spectre                                     2015.0  Color          PG-13   \n",
       "The Dark Knight Rises                       2012.0  Color          PG-13   \n",
       "Star Wars: Episode VII - The Force Awakens     NaN    NaN            NaN   \n",
       "\n",
       "                                            duration      director_name  \\\n",
       "title                                                                     \n",
       "Avatar                                         178.0      James Cameron   \n",
       "Pirates of the Caribbean: At World's End       169.0     Gore Verbinski   \n",
       "Spectre                                        148.0         Sam Mendes   \n",
       "The Dark Knight Rises                          164.0  Christopher Nolan   \n",
       "Star Wars: Episode VII - The Force Awakens       NaN        Doug Walker   \n",
       "\n",
       "                                            director_fb           actor1  \\\n",
       "title                                                                      \n",
       "Avatar                                              0.0      CCH Pounder   \n",
       "Pirates of the Caribbean: At World's End          563.0      Johnny Depp   \n",
       "Spectre                                             0.0  Christoph Waltz   \n",
       "The Dark Knight Rises                           22000.0        Tom Hardy   \n",
       "Star Wars: Episode VII - The Force Awakens        131.0      Doug Walker   \n",
       "\n",
       "                                            actor1_fb            actor2  \\\n",
       "title                                                                     \n",
       "Avatar                                         1000.0  Joel David Moore   \n",
       "Pirates of the Caribbean: At World's End      40000.0     Orlando Bloom   \n",
       "Spectre                                       11000.0      Rory Kinnear   \n",
       "The Dark Knight Rises                         27000.0    Christian Bale   \n",
       "Star Wars: Episode VII - The Force Awakens      131.0        Rob Walker   \n",
       "\n",
       "                                            actor2_fb     ...     actor3_fb  \\\n",
       "title                                                     ...                 \n",
       "Avatar                                          936.0     ...         855.0   \n",
       "Pirates of the Caribbean: At World's End       5000.0     ...        1000.0   \n",
       "Spectre                                         393.0     ...         161.0   \n",
       "The Dark Knight Rises                         23000.0     ...       23000.0   \n",
       "Star Wars: Episode VII - The Force Awakens       12.0     ...           NaN   \n",
       "\n",
       "                                                  gross  \\\n",
       "title                                                     \n",
       "Avatar                                      760505847.0   \n",
       "Pirates of the Caribbean: At World's End    309404152.0   \n",
       "Spectre                                     200074175.0   \n",
       "The Dark Knight Rises                       448130642.0   \n",
       "Star Wars: Episode VII - The Force Awakens          NaN   \n",
       "\n",
       "                                                                     genres  \\\n",
       "title                                                                         \n",
       "Avatar                                      Action|Adventure|Fantasy|Sci-Fi   \n",
       "Pirates of the Caribbean: At World's End           Action|Adventure|Fantasy   \n",
       "Spectre                                           Action|Adventure|Thriller   \n",
       "The Dark Knight Rises                                       Action|Thriller   \n",
       "Star Wars: Episode VII - The Force Awakens                      Documentary   \n",
       "\n",
       "                                           num_reviews  num_voted_users  \\\n",
       "title                                                                     \n",
       "Avatar                                           723.0           886204   \n",
       "Pirates of the Caribbean: At World's End         302.0           471220   \n",
       "Spectre                                          602.0           275868   \n",
       "The Dark Knight Rises                            813.0          1144337   \n",
       "Star Wars: Episode VII - The Force Awakens         NaN                8   \n",
       "\n",
       "                                                                                plot_keywords  \\\n",
       "title                                                                                           \n",
       "Avatar                                                 avatar|future|marine|native|paraplegic   \n",
       "Pirates of the Caribbean: At World's End    goddess|marriage ceremony|marriage proposal|pi...   \n",
       "Spectre                                                   bomb|espionage|sequel|spy|terrorist   \n",
       "The Dark Knight Rises                       deception|imprisonment|lawlessness|police offi...   \n",
       "Star Wars: Episode VII - The Force Awakens                                                NaN   \n",
       "\n",
       "                                           language country       budget  \\\n",
       "title                                                                      \n",
       "Avatar                                      English     USA  237000000.0   \n",
       "Pirates of the Caribbean: At World's End    English     USA  300000000.0   \n",
       "Spectre                                     English      UK  245000000.0   \n",
       "The Dark Knight Rises                       English     USA  250000000.0   \n",
       "Star Wars: Episode VII - The Force Awakens      NaN     NaN          NaN   \n",
       "\n",
       "                                            imdb_score  \n",
       "title                                                   \n",
       "Avatar                                             7.9  \n",
       "Pirates of the Caribbean: At World's End           7.1  \n",
       "Spectre                                            6.8  \n",
       "The Dark Knight Rises                              8.5  \n",
       "Star Wars: Episode VII - The Force Awakens         7.1  \n",
       "\n",
       "[5 rows x 21 columns]"
      ]
     },
     "execution_count": 1,
     "metadata": {},
     "output_type": "execute_result"
    }
   ],
   "source": [
    "import pandas as pd\n",
    "movie = pd.read_csv('data/movie.csv', index_col='title')\n",
    "movie.head()"
   ]
  },
  {
   "cell_type": "code",
   "execution_count": 2,
   "metadata": {},
   "outputs": [
    {
     "data": {
      "text/plain": [
       "title\n",
       "Avatar                                        2009.0\n",
       "Pirates of the Caribbean: At World's End      2007.0\n",
       "Spectre                                       2015.0\n",
       "The Dark Knight Rises                         2012.0\n",
       "Star Wars: Episode VII - The Force Awakens       NaN\n",
       "Name: year, dtype: float64"
      ]
     },
     "execution_count": 2,
     "metadata": {},
     "output_type": "execute_result"
    }
   ],
   "source": [
    "movie.year.head()"
   ]
  },
  {
   "cell_type": "markdown",
   "metadata": {},
   "source": [
    "### I don't recommend doing this\n",
    "Although this is valid Pandas syntax I don't recommend using this notation for the following reasons:\n",
    "* You cannot select columns with spaces in them\n",
    "* You cannot select columns that have the same name as a Pandas method such as **`count`**\n",
    "\n",
    "Using *just the brackets* **always** works so I recommend doing the following instead:"
   ]
  },
  {
   "cell_type": "code",
   "execution_count": 3,
   "metadata": {},
   "outputs": [
    {
     "data": {
      "text/plain": [
       "title\n",
       "Avatar                                        2009.0\n",
       "Pirates of the Caribbean: At World's End      2007.0\n",
       "Spectre                                       2015.0\n",
       "The Dark Knight Rises                         2012.0\n",
       "Star Wars: Episode VII - The Force Awakens       NaN\n",
       "Name: year, dtype: float64"
      ]
     },
     "execution_count": 3,
     "metadata": {},
     "output_type": "execute_result"
    }
   ],
   "source": [
    "movie['year'].head()"
   ]
  },
  {
   "cell_type": "markdown",
   "metadata": {},
   "source": [
    "### Why even know about this?\n",
    "Tab Completion:"
   ]
  },
  {
   "cell_type": "code",
   "execution_count": 4,
   "metadata": {},
   "outputs": [
    {
     "ename": "SyntaxError",
     "evalue": "invalid syntax (<ipython-input-4-f40c9669a7d1>, line 2)",
     "output_type": "error",
     "traceback": [
      "\u001b[0;36m  File \u001b[0;32m\"<ipython-input-4-f40c9669a7d1>\"\u001b[0;36m, line \u001b[0;32m2\u001b[0m\n\u001b[0;31m    movie.year.\u001b[0m\n\u001b[0m               ^\u001b[0m\n\u001b[0;31mSyntaxError\u001b[0m\u001b[0;31m:\u001b[0m invalid syntax\n"
     ]
    }
   ],
   "source": [
    "# place your cursor after the dot and press tab\n",
    "movie.year."
   ]
  },
  {
   "cell_type": "code",
   "execution_count": 5,
   "metadata": {},
   "outputs": [
    {
     "ename": "SyntaxError",
     "evalue": "invalid syntax (<ipython-input-5-251dafd8f166>, line 2)",
     "output_type": "error",
     "traceback": [
      "\u001b[0;36m  File \u001b[0;32m\"<ipython-input-5-251dafd8f166>\"\u001b[0;36m, line \u001b[0;32m2\u001b[0m\n\u001b[0;31m    movie['year'].\u001b[0m\n\u001b[0m                  ^\u001b[0m\n\u001b[0;31mSyntaxError\u001b[0m\u001b[0;31m:\u001b[0m invalid syntax\n"
     ]
    }
   ],
   "source": [
    "# place your cursor after the dot and press tab\n",
    "movie['year']."
   ]
  },
  {
   "cell_type": "markdown",
   "metadata": {},
   "source": [
    "# Selecting Subsets of Data From a Series\n",
    "Selecting subsets of data from a Series is very similar to that as a DataFrame. Since there are no columns in a Series, there isn't a need to use *just the brackets*. Instead, you can do all of your subset selection with **`.loc`** and **`.iloc`**\n",
    "\n",
    "Let's select the column for IMDB scores as a Series and output the head."
   ]
  },
  {
   "cell_type": "code",
   "execution_count": 6,
   "metadata": {},
   "outputs": [
    {
     "data": {
      "text/plain": [
       "title\n",
       "Avatar                                        7.9\n",
       "Pirates of the Caribbean: At World's End      7.1\n",
       "Spectre                                       6.8\n",
       "The Dark Knight Rises                         8.5\n",
       "Star Wars: Episode VII - The Force Awakens    7.1\n",
       "Name: imdb_score, dtype: float64"
      ]
     },
     "execution_count": 6,
     "metadata": {},
     "output_type": "execute_result"
    }
   ],
   "source": [
    "imdb = movie['imdb_score']\n",
    "imdb.head()"
   ]
  },
  {
   "cell_type": "markdown",
   "metadata": {},
   "source": [
    "### Selection with a scalar, a list, and a slice\n",
    "Just like with a DataFrame, both **`.loc`** and **`.iloc`** accept either a single scalar, a list, or a slice.\n",
    "\n",
    "Let's select the movie IMDB score for 'Forrest Gump':"
   ]
  },
  {
   "cell_type": "code",
   "execution_count": 7,
   "metadata": {},
   "outputs": [
    {
     "data": {
      "text/plain": [
       "8.8000000000000007"
      ]
     },
     "execution_count": 7,
     "metadata": {},
     "output_type": "execute_result"
    }
   ],
   "source": [
    "imdb.loc['Forrest Gump']"
   ]
  },
  {
   "cell_type": "markdown",
   "metadata": {},
   "source": [
    "Select both 'Forrest Gump' and 'Avatar'. Notice that a Series is returned."
   ]
  },
  {
   "cell_type": "code",
   "execution_count": 8,
   "metadata": {},
   "outputs": [
    {
     "data": {
      "text/plain": [
       "title\n",
       "Forrest Gump    8.8\n",
       "Avatar          7.9\n",
       "Name: imdb_score, dtype: float64"
      ]
     },
     "execution_count": 8,
     "metadata": {},
     "output_type": "execute_result"
    }
   ],
   "source": [
    "imdb[['Forrest Gump', 'Avatar']]"
   ]
  },
  {
   "cell_type": "markdown",
   "metadata": {},
   "source": [
    "Select every 100th movie from 'Avatar' to 'Forrest Gump':"
   ]
  },
  {
   "cell_type": "code",
   "execution_count": 9,
   "metadata": {},
   "outputs": [
    {
     "data": {
      "text/plain": [
       "title\n",
       "Avatar                                   7.9\n",
       "The Fast and the Furious                 6.7\n",
       "Harry Potter and the Sorcerer's Stone    7.5\n",
       "Epic                                     6.7\n",
       "102 Dalmatians                           4.8\n",
       "Pompeii                                  5.6\n",
       "Wall Street: Money Never Sleeps          6.3\n",
       "Hop                                      5.5\n",
       "Beyond Borders                           6.5\n",
       "Name: imdb_score, dtype: float64"
      ]
     },
     "execution_count": 9,
     "metadata": {},
     "output_type": "execute_result"
    }
   ],
   "source": [
    "imdb.loc['Avatar':'Forrest Gump':100]"
   ]
  },
  {
   "cell_type": "markdown",
   "metadata": {},
   "source": [
    "### Repeat with `.iloc`\n",
    "Select a single score"
   ]
  },
  {
   "cell_type": "code",
   "execution_count": 10,
   "metadata": {},
   "outputs": [
    {
     "data": {
      "text/plain": [
       "6.9000000000000004"
      ]
     },
     "execution_count": 10,
     "metadata": {},
     "output_type": "execute_result"
    }
   ],
   "source": [
    "imdb.iloc[10]"
   ]
  },
  {
   "cell_type": "markdown",
   "metadata": {},
   "source": [
    "Select multiple scores with a list"
   ]
  },
  {
   "cell_type": "code",
   "execution_count": 11,
   "metadata": {},
   "outputs": [
    {
     "data": {
      "text/plain": [
       "title\n",
       "Batman v Superman: Dawn of Justice           6.9\n",
       "The Hobbit: The Battle of the Five Armies    7.5\n",
       "Skyfall                                      7.8\n",
       "Name: imdb_score, dtype: float64"
      ]
     },
     "execution_count": 11,
     "metadata": {},
     "output_type": "execute_result"
    }
   ],
   "source": [
    "imdb[[10, 20, 30]]"
   ]
  },
  {
   "cell_type": "markdown",
   "metadata": {},
   "source": [
    "Select multiple scores with a slice"
   ]
  },
  {
   "cell_type": "code",
   "execution_count": null,
   "metadata": {},
   "outputs": [],
   "source": [
    "imdb[3000:3050:10]"
   ]
  },
  {
   "cell_type": "markdown",
   "metadata": {},
   "source": [
    "# Pandas has power of lists and dictionaries\n",
    "DataFrames and Series are able to make selections with integers like a list and with labels like a dictionary."
   ]
  },
  {
   "cell_type": "code",
   "execution_count": 12,
   "metadata": {},
   "outputs": [
    {
     "data": {
      "text/plain": [
       "4"
      ]
     },
     "execution_count": 12,
     "metadata": {},
     "output_type": "execute_result"
    }
   ],
   "source": [
    "a_list = [4, 4, 9]\n",
    "a_list[1]"
   ]
  },
  {
   "cell_type": "code",
   "execution_count": 13,
   "metadata": {},
   "outputs": [
    {
     "data": {
      "text/plain": [
       "1"
      ]
     },
     "execution_count": 13,
     "metadata": {},
     "output_type": "execute_result"
    }
   ],
   "source": [
    "d = {'a': 1, 'z': 26}\n",
    "d['a']"
   ]
  },
  {
   "cell_type": "markdown",
   "metadata": {},
   "source": [
    "# Exercises"
   ]
  },
  {
   "cell_type": "markdown",
   "metadata": {},
   "source": [
    "### Problem 1\n",
    "<span  style=\"color:green; font-size:16px\">Read in the movie dataset and set the index to be the title. Select `actor1` as a Series. Who is the `actor1` for 'My Big Fat Greek Wedding'?</span>"
   ]
  },
  {
   "cell_type": "code",
   "execution_count": 20,
   "metadata": {},
   "outputs": [
    {
     "data": {
      "text/plain": [
       "'Nia Vardalos'"
      ]
     },
     "execution_count": 20,
     "metadata": {},
     "output_type": "execute_result"
    }
   ],
   "source": [
    "movie = pd.read_csv('data/movie.csv', index_col='title')\n",
    "actor = movie['actor1']\n",
    "actor.loc['My Big Fat Greek Wedding']\n"
   ]
  },
  {
   "cell_type": "markdown",
   "metadata": {},
   "source": [
    "### Problem 2\n",
    "<span  style=\"color:green; font-size:16px\">Find `actor1` for your favorite two movies?</span>"
   ]
  },
  {
   "cell_type": "code",
   "execution_count": 25,
   "metadata": {},
   "outputs": [
    {
     "data": {
      "text/plain": [
       "'Christoph Waltz'"
      ]
     },
     "execution_count": 25,
     "metadata": {},
     "output_type": "execute_result"
    }
   ],
   "source": [
    "actor.loc['Spectre']"
   ]
  },
  {
   "cell_type": "markdown",
   "metadata": {},
   "source": [
    "### Problem 3\n",
    "<span  style=\"color:green; font-size:16px\">Select the last 10 values from `actor1` using two different ways?</span>"
   ]
  },
  {
   "cell_type": "code",
   "execution_count": 27,
   "metadata": {},
   "outputs": [
    {
     "data": {
      "text/plain": [
       "title\n",
       "Primer                       Shane Carruth\n",
       "Cavite                         Ian Gamazon\n",
       "El Mariachi                Carlos Gallardo\n",
       "The Mongol King             Richard Jewell\n",
       "Newlyweds                      Kerry Bishé\n",
       "Signed Sealed Delivered        Eric Mabius\n",
       "The Following                  Natalie Zea\n",
       "A Plague So Pleasant           Eva Boehnke\n",
       "Shanghai Calling                 Alan Ruck\n",
       "My Date with Drew              John August\n",
       "Name: actor1, dtype: object"
      ]
     },
     "execution_count": 27,
     "metadata": {},
     "output_type": "execute_result"
    }
   ],
   "source": [
    "actor.tail(10)"
   ]
  },
  {
   "cell_type": "code",
   "execution_count": null,
   "metadata": {},
   "outputs": [],
   "source": []
  }
 ],
 "metadata": {
  "kernelspec": {
   "display_name": "Python 3",
   "language": "python",
   "name": "python3"
  },
  "language_info": {
   "codemirror_mode": {
    "name": "ipython",
    "version": 3
   },
   "file_extension": ".py",
   "mimetype": "text/x-python",
   "name": "python",
   "nbconvert_exporter": "python",
   "pygments_lexer": "ipython3",
   "version": "3.6.2"
  }
 },
 "nbformat": 4,
 "nbformat_minor": 2
}
