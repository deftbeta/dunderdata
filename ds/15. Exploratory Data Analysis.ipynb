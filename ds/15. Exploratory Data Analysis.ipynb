{
 "cells": [
  {
   "cell_type": "markdown",
   "metadata": {},
   "source": [
    "# Exploratory Data Analysis\n",
    "\n",
    "### Resources\n",
    "1. Read [chapter 4 of this book](http://www.stat.cmu.edu/~hseltman/309/Book/) by Howard Seltman\n",
    "1. [Udacity class on EDA in R](https://classroom.udacity.com/courses/ud651)\n",
    "1. [Stanford Visualization Class](http://web.stanford.edu/class/cs448b/cgi-bin/wiki-fa16/index.php?title=Main_Page)\n",
    "1. [Kaggle Winner Interviews](http://blog.kaggle.com/category/winners-interviews/)"
   ]
  },
  {
   "cell_type": "markdown",
   "metadata": {},
   "source": [
    "# This notebook\n",
    "In this notebook, the journey begins once the data is in your hands. It may or may not have been processed before but now its yours and you have to make sense of it.\n",
    "\n",
    "# Developing a Data Analysis Routine\n",
    "Do you have a plan when the data gets in your hands or do you just randomly explore data until you reach a conclusions? A data analysis routine is like a **pre-flight checklist**. The notebook **EDA Checklist** lists many ideas that can be used as a template for developing your own routine.\n",
    "\n",
    "### Interview your data - make a documentary\n",
    "By the end of the interview you should have enough material to produce a 'documentary' describing what the story is with your data. Exploratory data analysis consists of all the work done before any formal or rigorous statistical analysis. It is an approach you take to better understand your data.\n",
    "\n",
    "### History of EDA\n",
    "[EDA][1] was coined by a famous statistician John Tukey in the 1970's to summarize an approach for characterizing data supplemented heavily by visualizations. Tukey is known for [some famous stats quotes](http://www.azquotes.com/author/14847-John_Tukey).\n",
    "\n",
    "> \"When communicating results to non-technical types there is nothing better than a clear visualization to make your point.\" - John Tukey\n",
    "\n",
    "### Visualization is the primary tool of EDA\n",
    "The primary investigative results that your EDA should produce are visualizations. \n",
    "\n",
    "### Descriptive statistics are a close second\n",
    "Along with visualizations come descriptive statistics. \n",
    "\n",
    "### No formal hypothesis testing \n",
    "\n",
    "[1]: https://en.wikipedia.org/wiki/Exploratory_data_analysis"
   ]
  },
  {
   "cell_type": "markdown",
   "metadata": {},
   "source": [
    "# EDA with Diamonds\n",
    "A popular datasets for beginning exploration is diamond data from the [diamond search engine](http://www.diamondse.info/). Check the scrape notebook to see how the data was fetched.\n",
    "\n",
    "## Subject Matter Research\n",
    "Subject matter research is important to do before looking at the data. At the bottom of the page exists links to get educated on the datasets.\n",
    "\n",
    "## Problem Formalization Yes/No/Does it matter?\n",
    "It isn't necessary to have a formalized problem definition when beginning your data exploration. Of course, there are many times when you will be given a formal task to undertake but regardless EDA can always be performed and sometimes its easier to be unbiased when you don't have a formal problem.\n",
    "\n",
    "## Messy journals to formal report\n",
    "Jupyter Notebooks can get very messy. Make a new one when you are ready to write a final report.\n",
    "\n",
    "# Beginning to peek into the data\n",
    "One of the first things you will want to do is find the data dictionary if it exists.  \n",
    "\n",
    "## The Data Dictionary\n",
    "\n",
    "If there is no data dictionary, you need to create it as you complete your EDA. Even if a data dictionary exists you need to modify it and continually add notes to it. A spreadsheet is a good choice of a file for a data dictionary. You can have columns for:g\n",
    "* Column Name\n",
    "* Data Type\n",
    "* Range of values\n",
    "* Notes\n",
    "\n",
    "Let's look at the data dictionary"
   ]
  },
  {
   "cell_type": "code",
   "execution_count": 1,
   "metadata": {},
   "outputs": [
    {
     "data": {
      "text/html": [
       "<div>\n",
       "<style scoped>\n",
       "    .dataframe tbody tr th:only-of-type {\n",
       "        vertical-align: middle;\n",
       "    }\n",
       "\n",
       "    .dataframe tbody tr th {\n",
       "        vertical-align: top;\n",
       "    }\n",
       "\n",
       "    .dataframe thead th {\n",
       "        text-align: right;\n",
       "    }\n",
       "</style>\n",
       "<table border=\"1\" class=\"dataframe\">\n",
       "  <thead>\n",
       "    <tr style=\"text-align: right;\">\n",
       "      <th></th>\n",
       "      <th>Description</th>\n",
       "    </tr>\n",
       "    <tr>\n",
       "      <th>Column Name</th>\n",
       "      <th></th>\n",
       "    </tr>\n",
       "  </thead>\n",
       "  <tbody>\n",
       "    <tr>\n",
       "      <th>carat</th>\n",
       "      <td>weight of the diamond</td>\n",
       "    </tr>\n",
       "    <tr>\n",
       "      <th>clarity</th>\n",
       "      <td>measurement of how clear the diamond is (I2 (worst), I1, SI2, SI1, VS2, VS1, VVS2, VVS1, IF, FL ...</td>\n",
       "    </tr>\n",
       "    <tr>\n",
       "      <th>color</th>\n",
       "      <td>diamond color, from L (worst) to D (best)</td>\n",
       "    </tr>\n",
       "    <tr>\n",
       "      <th>cut</th>\n",
       "      <td>quality of the cut (Fair, Good, V.Good, Premium, Ideal)</td>\n",
       "    </tr>\n",
       "    <tr>\n",
       "      <th>depth</th>\n",
       "      <td>total depth percentage = 2 * z / (x + y)</td>\n",
       "    </tr>\n",
       "    <tr>\n",
       "      <th>price</th>\n",
       "      <td>price in US dollars</td>\n",
       "    </tr>\n",
       "    <tr>\n",
       "      <th>table</th>\n",
       "      <td>width of top of diamond relative to widest point</td>\n",
       "    </tr>\n",
       "    <tr>\n",
       "      <th>x</th>\n",
       "      <td>length in mm</td>\n",
       "    </tr>\n",
       "    <tr>\n",
       "      <th>y</th>\n",
       "      <td>width in mm</td>\n",
       "    </tr>\n",
       "    <tr>\n",
       "      <th>z</th>\n",
       "      <td>depth in mm</td>\n",
       "    </tr>\n",
       "  </tbody>\n",
       "</table>\n",
       "</div>"
      ],
      "text/plain": [
       "                                                                                                     Description\n",
       "Column Name                                                                                                     \n",
       "carat                                                                                      weight of the diamond\n",
       "clarity      measurement of how clear the diamond is (I2 (worst), I1, SI2, SI1, VS2, VS1, VVS2, VVS1, IF, FL ...\n",
       "color                                                                  diamond color, from L (worst) to D (best)\n",
       "cut                                                      quality of the cut (Fair, Good, V.Good, Premium, Ideal)\n",
       "depth                                                                   total depth percentage = 2 * z / (x + y)\n",
       "price                                                                                        price in US dollars\n",
       "table                                                           width of top of diamond relative to widest point\n",
       "x                                                                                                   length in mm\n",
       "y                                                                                                    width in mm\n",
       "z                                                                                                    depth in mm"
      ]
     },
     "execution_count": 1,
     "metadata": {},
     "output_type": "execute_result"
    }
   ],
   "source": [
    "import pandas as pd\n",
    "import numpy as np\n",
    "import seaborn as sns\n",
    "import matplotlib.pyplot as plt\n",
    "%matplotlib inline\n",
    "\n",
    "pd.options.display.max_colwidth = 100\n",
    "diamonds_dictionary = pd.read_csv('data/diamonds_dictionary.csv', index_col='Column Name')\n",
    "diamonds_dictionary"
   ]
  },
  {
   "cell_type": "markdown",
   "metadata": {},
   "source": [
    "## Inspect the first few rows\n",
    "Let's look at the head of the DataFrame and inspect the first few rows."
   ]
  },
  {
   "cell_type": "code",
   "execution_count": 2,
   "metadata": {},
   "outputs": [
    {
     "data": {
      "text/html": [
       "<div>\n",
       "<style scoped>\n",
       "    .dataframe tbody tr th:only-of-type {\n",
       "        vertical-align: middle;\n",
       "    }\n",
       "\n",
       "    .dataframe tbody tr th {\n",
       "        vertical-align: top;\n",
       "    }\n",
       "\n",
       "    .dataframe thead th {\n",
       "        text-align: right;\n",
       "    }\n",
       "</style>\n",
       "<table border=\"1\" class=\"dataframe\">\n",
       "  <thead>\n",
       "    <tr style=\"text-align: right;\">\n",
       "      <th></th>\n",
       "      <th>shape</th>\n",
       "      <th>carat</th>\n",
       "      <th>cut</th>\n",
       "      <th>color</th>\n",
       "      <th>clarity</th>\n",
       "      <th>table</th>\n",
       "      <th>depth</th>\n",
       "      <th>cert</th>\n",
       "      <th>price</th>\n",
       "      <th>x</th>\n",
       "      <th>y</th>\n",
       "      <th>z</th>\n",
       "    </tr>\n",
       "  </thead>\n",
       "  <tbody>\n",
       "    <tr>\n",
       "      <th>0</th>\n",
       "      <td>Round</td>\n",
       "      <td>2.01</td>\n",
       "      <td>Ideal</td>\n",
       "      <td>G</td>\n",
       "      <td>IF</td>\n",
       "      <td>58.0</td>\n",
       "      <td>62.0</td>\n",
       "      <td>GIA</td>\n",
       "      <td>8587270</td>\n",
       "      <td>8.09</td>\n",
       "      <td>8.02</td>\n",
       "      <td>5.00</td>\n",
       "    </tr>\n",
       "    <tr>\n",
       "      <th>1</th>\n",
       "      <td>Emerald</td>\n",
       "      <td>20.28</td>\n",
       "      <td>Ideal</td>\n",
       "      <td>D</td>\n",
       "      <td>FL</td>\n",
       "      <td>67.0</td>\n",
       "      <td>60.9</td>\n",
       "      <td>GIA</td>\n",
       "      <td>3046290</td>\n",
       "      <td>17.32</td>\n",
       "      <td>14.50</td>\n",
       "      <td>8.83</td>\n",
       "    </tr>\n",
       "    <tr>\n",
       "      <th>2</th>\n",
       "      <td>Emerald</td>\n",
       "      <td>20.28</td>\n",
       "      <td>V.Good</td>\n",
       "      <td>D</td>\n",
       "      <td>FL</td>\n",
       "      <td>67.0</td>\n",
       "      <td>60.9</td>\n",
       "      <td>GIA</td>\n",
       "      <td>2980508</td>\n",
       "      <td>17.32</td>\n",
       "      <td>14.50</td>\n",
       "      <td>8.83</td>\n",
       "    </tr>\n",
       "    <tr>\n",
       "      <th>3</th>\n",
       "      <td>Round</td>\n",
       "      <td>20.32</td>\n",
       "      <td>Ideal</td>\n",
       "      <td>F</td>\n",
       "      <td>VVS1</td>\n",
       "      <td>55.0</td>\n",
       "      <td>61.6</td>\n",
       "      <td>GIA</td>\n",
       "      <td>2723138</td>\n",
       "      <td>17.64</td>\n",
       "      <td>17.55</td>\n",
       "      <td>10.83</td>\n",
       "    </tr>\n",
       "    <tr>\n",
       "      <th>4</th>\n",
       "      <td>Round</td>\n",
       "      <td>20.25</td>\n",
       "      <td>Ideal</td>\n",
       "      <td>D</td>\n",
       "      <td>VVS1</td>\n",
       "      <td>58.0</td>\n",
       "      <td>60.1</td>\n",
       "      <td>GIA</td>\n",
       "      <td>2693429</td>\n",
       "      <td>17.61</td>\n",
       "      <td>17.72</td>\n",
       "      <td>10.61</td>\n",
       "    </tr>\n",
       "  </tbody>\n",
       "</table>\n",
       "</div>"
      ],
      "text/plain": [
       "     shape  carat     cut color clarity  table  depth cert    price      x  \\\n",
       "0    Round   2.01   Ideal     G      IF   58.0   62.0  GIA  8587270   8.09   \n",
       "1  Emerald  20.28   Ideal     D      FL   67.0   60.9  GIA  3046290  17.32   \n",
       "2  Emerald  20.28  V.Good     D      FL   67.0   60.9  GIA  2980508  17.32   \n",
       "3    Round  20.32   Ideal     F    VVS1   55.0   61.6  GIA  2723138  17.64   \n",
       "4    Round  20.25   Ideal     D    VVS1   58.0   60.1  GIA  2693429  17.61   \n",
       "\n",
       "       y      z  \n",
       "0   8.02   5.00  \n",
       "1  14.50   8.83  \n",
       "2  14.50   8.83  \n",
       "3  17.55  10.83  \n",
       "4  17.72  10.61  "
      ]
     },
     "execution_count": 2,
     "metadata": {},
     "output_type": "execute_result"
    }
   ],
   "source": [
    "diamonds = pd.read_csv('data/diamonds.csv')\n",
    "diamonds.head()"
   ]
  },
  {
   "cell_type": "markdown",
   "metadata": {},
   "source": [
    "# Data Types\n",
    "One of the most import fundamental attributes of a column is its data type. Check to see if numeric columns appear as object."
   ]
  },
  {
   "cell_type": "code",
   "execution_count": 3,
   "metadata": {},
   "outputs": [
    {
     "data": {
      "text/plain": [
       "shape       object\n",
       "carat      float64\n",
       "cut         object\n",
       "color       object\n",
       "clarity     object\n",
       "table      float64\n",
       "depth      float64\n",
       "cert        object\n",
       "price        int64\n",
       "x          float64\n",
       "y          float64\n",
       "z          float64\n",
       "dtype: object"
      ]
     },
     "execution_count": 3,
     "metadata": {},
     "output_type": "execute_result"
    }
   ],
   "source": [
    "diamonds.dtypes"
   ]
  },
  {
   "cell_type": "markdown",
   "metadata": {},
   "source": [
    "## Types of variables: Categorical or Continuous\n",
    "The two broad classes of variables in a dataset are categorical and continuous. \n",
    "\n",
    "* Categorical data is limited to finite, discrete values (can be numeric)\n",
    "* Continuous variables can take on an infinite set of numerical values (must be numeric)"
   ]
  },
  {
   "cell_type": "markdown",
   "metadata": {},
   "source": [
    "## Rearranging the column order\n",
    "You should not accept the default column ordering of your dataset. Even though the diamonds dataset only has 10 columns, we can still rearrange them to make them more meaningful. One simple arrangement is to have the categorical variables come first. "
   ]
  },
  {
   "cell_type": "code",
   "execution_count": 4,
   "metadata": {},
   "outputs": [
    {
     "data": {
      "text/plain": [
       "Index(['shape', 'carat', 'cut', 'color', 'clarity', 'table', 'depth', 'cert',\n",
       "       'price', 'x', 'y', 'z'],\n",
       "      dtype='object')"
      ]
     },
     "execution_count": 4,
     "metadata": {},
     "output_type": "execute_result"
    }
   ],
   "source": [
    "# old order\n",
    "diamonds.columns"
   ]
  },
  {
   "cell_type": "code",
   "execution_count": 5,
   "metadata": {},
   "outputs": [
    {
     "data": {
      "text/html": [
       "<div>\n",
       "<style scoped>\n",
       "    .dataframe tbody tr th:only-of-type {\n",
       "        vertical-align: middle;\n",
       "    }\n",
       "\n",
       "    .dataframe tbody tr th {\n",
       "        vertical-align: top;\n",
       "    }\n",
       "\n",
       "    .dataframe thead th {\n",
       "        text-align: right;\n",
       "    }\n",
       "</style>\n",
       "<table border=\"1\" class=\"dataframe\">\n",
       "  <thead>\n",
       "    <tr style=\"text-align: right;\">\n",
       "      <th></th>\n",
       "      <th>cut</th>\n",
       "      <th>color</th>\n",
       "      <th>clarity</th>\n",
       "      <th>carat</th>\n",
       "      <th>shape</th>\n",
       "      <th>cert</th>\n",
       "      <th>x</th>\n",
       "      <th>y</th>\n",
       "      <th>z</th>\n",
       "      <th>depth</th>\n",
       "      <th>table</th>\n",
       "      <th>price</th>\n",
       "    </tr>\n",
       "  </thead>\n",
       "  <tbody>\n",
       "    <tr>\n",
       "      <th>0</th>\n",
       "      <td>Ideal</td>\n",
       "      <td>G</td>\n",
       "      <td>IF</td>\n",
       "      <td>2.01</td>\n",
       "      <td>Round</td>\n",
       "      <td>GIA</td>\n",
       "      <td>8.09</td>\n",
       "      <td>8.02</td>\n",
       "      <td>5.00</td>\n",
       "      <td>62.0</td>\n",
       "      <td>58.0</td>\n",
       "      <td>8587270</td>\n",
       "    </tr>\n",
       "    <tr>\n",
       "      <th>1</th>\n",
       "      <td>Ideal</td>\n",
       "      <td>D</td>\n",
       "      <td>FL</td>\n",
       "      <td>20.28</td>\n",
       "      <td>Emerald</td>\n",
       "      <td>GIA</td>\n",
       "      <td>17.32</td>\n",
       "      <td>14.50</td>\n",
       "      <td>8.83</td>\n",
       "      <td>60.9</td>\n",
       "      <td>67.0</td>\n",
       "      <td>3046290</td>\n",
       "    </tr>\n",
       "    <tr>\n",
       "      <th>2</th>\n",
       "      <td>V.Good</td>\n",
       "      <td>D</td>\n",
       "      <td>FL</td>\n",
       "      <td>20.28</td>\n",
       "      <td>Emerald</td>\n",
       "      <td>GIA</td>\n",
       "      <td>17.32</td>\n",
       "      <td>14.50</td>\n",
       "      <td>8.83</td>\n",
       "      <td>60.9</td>\n",
       "      <td>67.0</td>\n",
       "      <td>2980508</td>\n",
       "    </tr>\n",
       "    <tr>\n",
       "      <th>3</th>\n",
       "      <td>Ideal</td>\n",
       "      <td>F</td>\n",
       "      <td>VVS1</td>\n",
       "      <td>20.32</td>\n",
       "      <td>Round</td>\n",
       "      <td>GIA</td>\n",
       "      <td>17.64</td>\n",
       "      <td>17.55</td>\n",
       "      <td>10.83</td>\n",
       "      <td>61.6</td>\n",
       "      <td>55.0</td>\n",
       "      <td>2723138</td>\n",
       "    </tr>\n",
       "    <tr>\n",
       "      <th>4</th>\n",
       "      <td>Ideal</td>\n",
       "      <td>D</td>\n",
       "      <td>VVS1</td>\n",
       "      <td>20.25</td>\n",
       "      <td>Round</td>\n",
       "      <td>GIA</td>\n",
       "      <td>17.61</td>\n",
       "      <td>17.72</td>\n",
       "      <td>10.61</td>\n",
       "      <td>60.1</td>\n",
       "      <td>58.0</td>\n",
       "      <td>2693429</td>\n",
       "    </tr>\n",
       "  </tbody>\n",
       "</table>\n",
       "</div>"
      ],
      "text/plain": [
       "      cut color clarity  carat    shape cert      x      y      z  depth  \\\n",
       "0   Ideal     G      IF   2.01    Round  GIA   8.09   8.02   5.00   62.0   \n",
       "1   Ideal     D      FL  20.28  Emerald  GIA  17.32  14.50   8.83   60.9   \n",
       "2  V.Good     D      FL  20.28  Emerald  GIA  17.32  14.50   8.83   60.9   \n",
       "3   Ideal     F    VVS1  20.32    Round  GIA  17.64  17.55  10.83   61.6   \n",
       "4   Ideal     D    VVS1  20.25    Round  GIA  17.61  17.72  10.61   60.1   \n",
       "\n",
       "   table    price  \n",
       "0   58.0  8587270  \n",
       "1   67.0  3046290  \n",
       "2   67.0  2980508  \n",
       "3   55.0  2723138  \n",
       "4   58.0  2693429  "
      ]
     },
     "execution_count": 5,
     "metadata": {},
     "output_type": "execute_result"
    }
   ],
   "source": [
    "new_order = ['cut', 'color', 'clarity', 'carat', 'shape', \n",
    "             'cert', 'x', 'y','z','depth', 'table', 'price']\n",
    "diamonds = diamonds[new_order]\n",
    "diamonds.head()"
   ]
  },
  {
   "cell_type": "markdown",
   "metadata": {},
   "source": [
    "## A bit more metadata\n",
    "Let's get the number of observations and the number of missing values for each column."
   ]
  },
  {
   "cell_type": "code",
   "execution_count": 6,
   "metadata": {},
   "outputs": [
    {
     "data": {
      "text/plain": [
       "(40000, 12)"
      ]
     },
     "execution_count": 6,
     "metadata": {},
     "output_type": "execute_result"
    }
   ],
   "source": [
    "diamonds.shape"
   ]
  },
  {
   "cell_type": "markdown",
   "metadata": {},
   "source": [
    "### Are there any missing values?\n"
   ]
  },
  {
   "cell_type": "code",
   "execution_count": 7,
   "metadata": {},
   "outputs": [
    {
     "data": {
      "text/plain": [
       "cut        0\n",
       "color      0\n",
       "clarity    0\n",
       "carat      0\n",
       "shape      0\n",
       "cert       0\n",
       "x          0\n",
       "y          0\n",
       "z          0\n",
       "depth      0\n",
       "table      0\n",
       "price      0\n",
       "dtype: int64"
      ]
     },
     "execution_count": 7,
     "metadata": {},
     "output_type": "execute_result"
    }
   ],
   "source": [
    "diamonds.isna().sum()"
   ]
  },
  {
   "cell_type": "markdown",
   "metadata": {},
   "source": [
    "# Your Turn #1\n",
    "Go to the Library Usage EDA Notebook and perform the same steps as we did above."
   ]
  },
  {
   "cell_type": "markdown",
   "metadata": {},
   "source": [
    "# Univariate vs Bivariate (and multivariate) Analyses\n",
    "Univariate analysis is done on one variable at a time. Bivariate or multivariate is analysis done on 2 or more variables.\n",
    "\n",
    "## Types of variables: Categorical or Continuous\n",
    "The two broad classes of variables in a dataset are categorical and continuous. \n",
    "\n",
    "* Categorical data is limited to finite, discrete values (can be numeric)\n",
    "* Continuous variables can take on an infinite set of numerical values (must be numeric)\n",
    "\n",
    "## Graphical vs Non-graphical\n",
    "Each exploratory analysis will either result in a graph or some numbers representing the data.\n",
    "\n",
    "# Summarizing\n",
    "To help guide you on your exploratory data analysis, a suggested plot/table is given in the 10 table cells below.\n",
    "\n",
    "| Univariate             | Graphical                               | Non-Graphical                     | \n",
    "|-------------|-----------------------------------------|-----------------------------------|\n",
    "| Categorical | Bar char of frequencies (count/percent) | Contingency table (count/percent) |\n",
    "| Continuous  | Histogram/rugplot/KDE, box/violin/swarm, qqplot, fat tails  | central tendency -mean/median/mode, spread - variance, std, skew, kurt, IQR  |\n",
    "\n",
    "| Bivariate/multivariate            | Graphical                               | Non-Graphical                     | \n",
    "|-------------|-----------------------------------------|-----------------------------------|\n",
    "| Categorical vs Categorical | heat map, mosaic plot | Two-way Contingency table (count/percent) |\n",
    "| Continuous vs Continuous  | all pairwise scatterplots, kde, heatmaps |  all pairwise correlation/regression   |\n",
    "| Categorical vs Continuous  | [bar, violin, swarm, point, strip seaborn plots](http://seaborn.pydata.org/tutorial/categorical.html)  | Summary statistics for each level |\n",
    "\n",
    "### Beginning with Univariate Analysis\n",
    "After you have tidied the data and began the data dictionary, a reasonable place to start is with univariate analysis. "
   ]
  },
  {
   "cell_type": "markdown",
   "metadata": {},
   "source": [
    "### Treating continuous variables as categorical\n",
    "Occasionally, it makes sense to treat each unique value of a continuous variable as a level of a categorical variable. The most common situation for this is when there are very few unique values for the continuous variable. \n",
    "\n",
    "### Binning continuous variables\n",
    "It is also possible to bin continuous variables into categories. We are all naturally fond of this when receiving grades: 90 - 100 is mapped to an **A** with 80 - 89 mapped to **B** and so on.\n",
    "\n",
    "### Get count of unique values for each\n",
    "The **`nunique`** DataFrame method returns the count of unique values for each column. This can help determine if a continuous variable might be served best as categorical. From the tables below, only the categorical columns have small unique counts."
   ]
  },
  {
   "cell_type": "code",
   "execution_count": 8,
   "metadata": {},
   "outputs": [
    {
     "data": {
      "text/plain": [
       "carat      825\n",
       "x         1131\n",
       "y          923\n",
       "z          648\n",
       "depth      346\n",
       "table      104\n",
       "price    22864\n",
       "dtype: int64"
      ]
     },
     "execution_count": 8,
     "metadata": {},
     "output_type": "execute_result"
    }
   ],
   "source": [
    "diamonds.select_dtypes(include='number').nunique()"
   ]
  },
  {
   "cell_type": "code",
   "execution_count": null,
   "metadata": {},
   "outputs": [],
   "source": [
    "diamonds.select_dtypes(exclude='number').nunique()"
   ]
  },
  {
   "cell_type": "markdown",
   "metadata": {},
   "source": [
    "### Univariate analysis: Interview each column\n",
    "For smaller datasets, I like to manually examine each variable. This way, I can learn the distribution of each variable, discover potential outliers, missing values and simplify matters by concentrating on only variable at a time.\n",
    "\n",
    "### Quick with  `describe`\n",
    "By default, the **`describe`** method gives basic summary statistics on all the numeric variables."
   ]
  },
  {
   "cell_type": "code",
   "execution_count": 9,
   "metadata": {},
   "outputs": [
    {
     "data": {
      "text/html": [
       "<div>\n",
       "<style scoped>\n",
       "    .dataframe tbody tr th:only-of-type {\n",
       "        vertical-align: middle;\n",
       "    }\n",
       "\n",
       "    .dataframe tbody tr th {\n",
       "        vertical-align: top;\n",
       "    }\n",
       "\n",
       "    .dataframe thead th {\n",
       "        text-align: right;\n",
       "    }\n",
       "</style>\n",
       "<table border=\"1\" class=\"dataframe\">\n",
       "  <thead>\n",
       "    <tr style=\"text-align: right;\">\n",
       "      <th></th>\n",
       "      <th>carat</th>\n",
       "      <th>x</th>\n",
       "      <th>y</th>\n",
       "      <th>z</th>\n",
       "      <th>depth</th>\n",
       "      <th>table</th>\n",
       "      <th>price</th>\n",
       "    </tr>\n",
       "  </thead>\n",
       "  <tbody>\n",
       "    <tr>\n",
       "      <th>count</th>\n",
       "      <td>40000.000000</td>\n",
       "      <td>40000.000000</td>\n",
       "      <td>40000.000000</td>\n",
       "      <td>40000.000000</td>\n",
       "      <td>40000.000000</td>\n",
       "      <td>40000.000000</td>\n",
       "      <td>4.000000e+04</td>\n",
       "    </tr>\n",
       "    <tr>\n",
       "      <th>mean</th>\n",
       "      <td>2.759422</td>\n",
       "      <td>8.989186</td>\n",
       "      <td>8.185267</td>\n",
       "      <td>5.426613</td>\n",
       "      <td>63.282965</td>\n",
       "      <td>60.187647</td>\n",
       "      <td>4.489490e+04</td>\n",
       "    </tr>\n",
       "    <tr>\n",
       "      <th>std</th>\n",
       "      <td>1.484662</td>\n",
       "      <td>1.804817</td>\n",
       "      <td>1.311689</td>\n",
       "      <td>2.856908</td>\n",
       "      <td>6.566226</td>\n",
       "      <td>4.561308</td>\n",
       "      <td>9.148406e+04</td>\n",
       "    </tr>\n",
       "    <tr>\n",
       "      <th>min</th>\n",
       "      <td>0.500000</td>\n",
       "      <td>0.000000</td>\n",
       "      <td>0.000000</td>\n",
       "      <td>0.000000</td>\n",
       "      <td>0.000000</td>\n",
       "      <td>0.500000</td>\n",
       "      <td>1.384000e+04</td>\n",
       "    </tr>\n",
       "    <tr>\n",
       "      <th>25%</th>\n",
       "      <td>2.010000</td>\n",
       "      <td>7.830000</td>\n",
       "      <td>7.300000</td>\n",
       "      <td>4.710000</td>\n",
       "      <td>61.600000</td>\n",
       "      <td>57.000000</td>\n",
       "      <td>1.741275e+04</td>\n",
       "    </tr>\n",
       "    <tr>\n",
       "      <th>50%</th>\n",
       "      <td>2.210000</td>\n",
       "      <td>8.450000</td>\n",
       "      <td>8.020000</td>\n",
       "      <td>5.040000</td>\n",
       "      <td>62.600000</td>\n",
       "      <td>59.000000</td>\n",
       "      <td>2.409500e+04</td>\n",
       "    </tr>\n",
       "    <tr>\n",
       "      <th>75%</th>\n",
       "      <td>3.040000</td>\n",
       "      <td>9.740000</td>\n",
       "      <td>8.790000</td>\n",
       "      <td>5.640000</td>\n",
       "      <td>66.200000</td>\n",
       "      <td>62.000000</td>\n",
       "      <td>4.315250e+04</td>\n",
       "    </tr>\n",
       "    <tr>\n",
       "      <th>max</th>\n",
       "      <td>26.200000</td>\n",
       "      <td>58.800000</td>\n",
       "      <td>19.170000</td>\n",
       "      <td>69.000000</td>\n",
       "      <td>83.900000</td>\n",
       "      <td>84.000000</td>\n",
       "      <td>8.587270e+06</td>\n",
       "    </tr>\n",
       "  </tbody>\n",
       "</table>\n",
       "</div>"
      ],
      "text/plain": [
       "              carat             x             y             z         depth  \\\n",
       "count  40000.000000  40000.000000  40000.000000  40000.000000  40000.000000   \n",
       "mean       2.759422      8.989186      8.185267      5.426613     63.282965   \n",
       "std        1.484662      1.804817      1.311689      2.856908      6.566226   \n",
       "min        0.500000      0.000000      0.000000      0.000000      0.000000   \n",
       "25%        2.010000      7.830000      7.300000      4.710000     61.600000   \n",
       "50%        2.210000      8.450000      8.020000      5.040000     62.600000   \n",
       "75%        3.040000      9.740000      8.790000      5.640000     66.200000   \n",
       "max       26.200000     58.800000     19.170000     69.000000     83.900000   \n",
       "\n",
       "              table         price  \n",
       "count  40000.000000  4.000000e+04  \n",
       "mean      60.187647  4.489490e+04  \n",
       "std        4.561308  9.148406e+04  \n",
       "min        0.500000  1.384000e+04  \n",
       "25%       57.000000  1.741275e+04  \n",
       "50%       59.000000  2.409500e+04  \n",
       "75%       62.000000  4.315250e+04  \n",
       "max       84.000000  8.587270e+06  "
      ]
     },
     "execution_count": 9,
     "metadata": {},
     "output_type": "execute_result"
    }
   ],
   "source": [
    "diamonds.describe()"
   ]
  },
  {
   "cell_type": "markdown",
   "metadata": {},
   "source": [
    "You can also use it with string columns. A completely different output results:"
   ]
  },
  {
   "cell_type": "code",
   "execution_count": null,
   "metadata": {},
   "outputs": [],
   "source": [
    "diamonds.describe(include='object')"
   ]
  },
  {
   "cell_type": "markdown",
   "metadata": {},
   "source": [
    "### Univariate analysis on the categorical variables\n",
    "The frequency of occurrence of each value by raw count and percentage is usually the first (and many times only exploratory step taken) when doing univariate categorical analysis. The **`value_counts`** Series method will be useful here."
   ]
  },
  {
   "cell_type": "code",
   "execution_count": 10,
   "metadata": {},
   "outputs": [
    {
     "data": {
      "text/plain": [
       "Ideal     28987\n",
       "V.Good     8870\n",
       "Good       2143\n",
       "Name: cut, dtype: int64"
      ]
     },
     "execution_count": 10,
     "metadata": {},
     "output_type": "execute_result"
    }
   ],
   "source": [
    "diamonds['cut'].value_counts()"
   ]
  },
  {
   "cell_type": "code",
   "execution_count": 11,
   "metadata": {},
   "outputs": [
    {
     "data": {
      "text/plain": [
       "D    6984\n",
       "F    6723\n",
       "G    6676\n",
       "E    6097\n",
       "H    5242\n",
       "I    4110\n",
       "J    2861\n",
       "K     994\n",
       "L     313\n",
       "Name: color, dtype: int64"
      ]
     },
     "execution_count": 11,
     "metadata": {},
     "output_type": "execute_result"
    }
   ],
   "source": [
    "diamonds['color'].value_counts()"
   ]
  },
  {
   "cell_type": "code",
   "execution_count": 12,
   "metadata": {},
   "outputs": [
    {
     "data": {
      "text/plain": [
       "VS2     8805\n",
       "VS1     8419\n",
       "SI1     7236\n",
       "VVS2    4959\n",
       "VVS1    4024\n",
       "SI2     3379\n",
       "IF      2631\n",
       "FL       463\n",
       "I1        83\n",
       "I2         1\n",
       "Name: clarity, dtype: int64"
      ]
     },
     "execution_count": 12,
     "metadata": {},
     "output_type": "execute_result"
    }
   ],
   "source": [
    "diamonds['clarity'].value_counts()"
   ]
  },
  {
   "cell_type": "code",
   "execution_count": 13,
   "metadata": {},
   "outputs": [
    {
     "data": {
      "text/plain": [
       "Ideal     0.72\n",
       "V.Good    0.22\n",
       "Good      0.05\n",
       "Name: cut, dtype: float64"
      ]
     },
     "execution_count": 13,
     "metadata": {},
     "output_type": "execute_result"
    }
   ],
   "source": [
    "# use normalize=True to get percentage\n",
    "diamonds['cut'].value_counts(normalize=True).round(2)"
   ]
  },
  {
   "cell_type": "markdown",
   "metadata": {},
   "source": [
    "### Outliers for categorical variables\n",
    "Categorical columns that have values with very few counts may be considered an outlier. One technique to remove the values is to have a count threshold and change any value that appears less than the threshold to 'other'."
   ]
  },
  {
   "cell_type": "markdown",
   "metadata": {},
   "source": [
    "### Changing `object` to `category`\n",
    "Pandas has a better data type than **`object`** for actual categorical variables properly. It has some strange syntax unfortunately.\n",
    "\n",
    "Let's convert cut, color, and clarity to category."
   ]
  },
  {
   "cell_type": "code",
   "execution_count": 15,
   "metadata": {},
   "outputs": [],
   "source": [
    "from pandas.api.types import CategoricalDtype\n",
    "\n",
    "cuts = ['Fair', 'Good', 'V.Good', 'Premium', 'Ideal']\n",
    "cut_category = CategoricalDtype(categories=cuts, ordered=True)\n",
    "diamonds['cut'] = diamonds['cut'].astype(cut_category)\n",
    "\n",
    "colors = ['L', 'K', 'J', 'I', 'H', 'G', 'F', 'E', 'D']\n",
    "color_category = CategoricalDtype(categories=colors, ordered=True)\n",
    "diamonds['color'] = diamonds['color'].astype(color_category)\n",
    "\n",
    "clarity = ['I2', 'I1', 'SI2', 'SI1', 'VS2', 'VS1', 'VVS2', 'VVS1', 'IF', 'FL']\n",
    "clarity_category = CategoricalDtype(categories=clarity, ordered=True)\n",
    "diamonds['clarity'] = diamonds['clarity'].astype(clarity_category)"
   ]
  },
  {
   "cell_type": "markdown",
   "metadata": {},
   "source": [
    "### Sort by category\n",
    "Notice Pandas sorts by the order we give it"
   ]
  },
  {
   "cell_type": "code",
   "execution_count": 16,
   "metadata": {},
   "outputs": [
    {
     "data": {
      "text/plain": [
       "L     313\n",
       "K     994\n",
       "J    2861\n",
       "I    4110\n",
       "H    5242\n",
       "G    6676\n",
       "F    6723\n",
       "E    6097\n",
       "D    6984\n",
       "Name: color, dtype: int64"
      ]
     },
     "execution_count": 16,
     "metadata": {},
     "output_type": "execute_result"
    }
   ],
   "source": [
    "diamonds['color'].value_counts().sort_index()"
   ]
  },
  {
   "cell_type": "code",
   "execution_count": null,
   "metadata": {},
   "outputs": [],
   "source": [
    "# percentages\n",
    "diamonds['cut'].value_counts(normalize=True).round(3).sort_index()"
   ]
  },
  {
   "cell_type": "markdown",
   "metadata": {},
   "source": [
    "## Use Seaborn for bar plots\n",
    "It sorts categories automatically along the x-axis."
   ]
  },
  {
   "cell_type": "code",
   "execution_count": 17,
   "metadata": {},
   "outputs": [
    {
     "data": {
      "text/plain": [
       "<matplotlib.axes._subplots.AxesSubplot at 0x114e1d048>"
      ]
     },
     "execution_count": 17,
     "metadata": {},
     "output_type": "execute_result"
    },
    {
     "data": {
      "image/png": "[encoded data removed]",
      "text/plain": [
       "<matplotlib.figure.Figure at 0x10eab2c50>"
      ]
     },
     "metadata": {},
     "output_type": "display_data"
    }
   ],
   "source": [
    "sns.countplot(x='color', data=diamonds)"
   ]
  },
  {
   "cell_type": "code",
   "execution_count": 18,
   "metadata": {},
   "outputs": [
    {
     "data": {
      "text/plain": [
       "<matplotlib.axes._subplots.AxesSubplot at 0x1141658d0>"
      ]
     },
     "execution_count": 18,
     "metadata": {},
     "output_type": "execute_result"
    },
    {
     "data": {
      "image/png": "[encoded data removed]",
      "text/plain": [
       "<matplotlib.figure.Figure at 0x114178518>"
      ]
     },
     "metadata": {},
     "output_type": "display_data"
    }
   ],
   "source": [
    "sns.countplot(x='cut', data=diamonds)"
   ]
  },
  {
   "cell_type": "code",
   "execution_count": 19,
   "metadata": {},
   "outputs": [
    {
     "data": {
      "text/plain": [
       "<matplotlib.axes._subplots.AxesSubplot at 0x11128fcf8>"
      ]
     },
     "execution_count": 19,
     "metadata": {},
     "output_type": "execute_result"
    },
    {
     "data": {
      "image/png": "[encoded data removed]",
      "text/plain": [
       "<matplotlib.figure.Figure at 0x1112a88d0>"
      ]
     },
     "metadata": {},
     "output_type": "display_data"
    }
   ],
   "source": [
    "sns.countplot(x='clarity', data=diamonds)"
   ]
  },
  {
   "cell_type": "markdown",
   "metadata": {},
   "source": [
    "# Your turn #2\n",
    "Do univariate analysis on the categorical columns. Convert them to the `category` type. If there are unordered categories simply do `astype('category')`"
   ]
  },
  {
   "cell_type": "code",
   "execution_count": null,
   "metadata": {},
   "outputs": [],
   "source": [
    "# code on other notebook"
   ]
  },
  {
   "cell_type": "markdown",
   "metadata": {},
   "source": [
    "### Feature Engineering Columns of Strings\n",
    "Categorical columns don't lend themselves to much exploratory data analysis. Features (new variables) may be created from strings. For instance, the first or last letter can be pulled out into its own column for further analysis. The second word of a sentence, the count of the number of vowels and so forth.\n",
    "\n",
    "Just because a column is a string does not mean a single bar plot of frequencies ends the analysis."
   ]
  },
  {
   "cell_type": "markdown",
   "metadata": {},
   "source": [
    "### Univariate analysis on continuous variables\n",
    "carat is numerical and therefore a much larger array of statistics may be generated to describe the variable. A boxplot is great to see some measure of spread and have some cut-off for outliers, defaulting to 1.5 times the IQR. There appear to be quite a few outliers, seen by the dots beyond the whisker of the plot below."
   ]
  },
  {
   "cell_type": "code",
   "execution_count": 20,
   "metadata": {},
   "outputs": [
    {
     "data": {
      "text/plain": [
       "<matplotlib.axes._subplots.AxesSubplot at 0x110f88588>"
      ]
     },
     "execution_count": 20,
     "metadata": {},
     "output_type": "execute_result"
    },
    {
     "data": {
      "image/png": "[encoded data removed]",
      "text/plain": [
       "<matplotlib.figure.Figure at 0x114029a20>"
      ]
     },
     "metadata": {},
     "output_type": "display_data"
    }
   ],
   "source": [
    "sns.boxplot(x='carat', data=diamonds)"
   ]
  },
  {
   "cell_type": "markdown",
   "metadata": {},
   "source": [
    "Use a KDE to better see distribution."
   ]
  },
  {
   "cell_type": "code",
   "execution_count": 21,
   "metadata": {},
   "outputs": [
    {
     "data": {
      "image/png": "[encoded data removed]",
      "text/plain": [
       "<matplotlib.figure.Figure at 0x1a1db26278>"
      ]
     },
     "metadata": {},
     "output_type": "display_data"
    }
   ],
   "source": [
    "ax = sns.distplot(diamonds['carat'])\n",
    "ax.figure.set_size_inches((12, 4))"
   ]
  },
  {
   "cell_type": "markdown",
   "metadata": {},
   "source": [
    "Filter for diamonds less than 5 carats to zoom in on distribution. What could be happening here?"
   ]
  },
  {
   "cell_type": "code",
   "execution_count": 22,
   "metadata": {},
   "outputs": [
    {
     "data": {
      "image/png": "[encoded data removed]",
      "text/plain": [
       "<matplotlib.figure.Figure at 0x1a1db8fc18>"
      ]
     },
     "metadata": {},
     "output_type": "display_data"
    }
   ],
   "source": [
    "filt = diamonds['carat'] < 5\n",
    "cs = 'carat'\n",
    "c5 = diamonds.loc[filt, cs]\n",
    "\n",
    "ax = sns.distplot(c5)"
   ]
  },
  {
   "cell_type": "markdown",
   "metadata": {},
   "source": [
    "# Your Turn #3\n",
    "Complete some univariate analysis on some continuous variables"
   ]
  },
  {
   "cell_type": "code",
   "execution_count": null,
   "metadata": {},
   "outputs": [],
   "source": [
    "# Code over there"
   ]
  },
  {
   "cell_type": "markdown",
   "metadata": {},
   "source": [
    "## Numerical Outliers (in one dimension)\n",
    "There is no formal statistical definition of an outlier but generally speaking, we think of outliers as being an abnormal observation distant from other points."
   ]
  },
  {
   "cell_type": "code",
   "execution_count": 23,
   "metadata": {},
   "outputs": [
    {
     "data": {
      "text/plain": [
       "Index(['carat', 'x', 'y', 'z', 'depth', 'table', 'price'], dtype='object')"
      ]
     },
     "execution_count": 23,
     "metadata": {},
     "output_type": "execute_result"
    }
   ],
   "source": [
    "numeric_cols = diamonds.select_dtypes('number').columns\n",
    "numeric_cols"
   ]
  },
  {
   "cell_type": "code",
   "execution_count": 24,
   "metadata": {},
   "outputs": [
    {
     "data": {
      "image/png": "[encoded data removed]",
      "text/plain": [
       "<matplotlib.figure.Figure at 0x1a1ddd3d30>"
      ]
     },
     "metadata": {},
     "output_type": "display_data"
    }
   ],
   "source": [
    "fig, ax_array = plt.subplots(3, 3, figsize=(16, 10), sharex=False, sharey=False)\n",
    "for ax, col in zip(ax_array.flatten(), numeric_cols):\n",
    "    sns.boxplot(x=col, data=diamonds, ax=ax)"
   ]
  },
  {
   "cell_type": "markdown",
   "metadata": {},
   "source": [
    "### Handling outliers\n",
    "During EDA, we are not necessarily interested in taking an action on the outlier. Labeling it and investigating it further are primary. A decision can be made later to determine if it was an input error or a fairly recorded value. \n",
    "\n",
    "The easiest way to handle them is to delete them and make note of them. Applying a transformation (scaling, normalizing, taking log, etc...) is probably the most popular way of accounting for them. It's also possible to attempt to build a model from the rest of the data to predict what that value should have been. Capping the value at some fixed max/min could work as well.\n",
    "\n",
    "### Categorical Outliers\n",
    "Those that appear very few (or possibly very many times). Choose a threshold."
   ]
  },
  {
   "cell_type": "code",
   "execution_count": 25,
   "metadata": {},
   "outputs": [
    {
     "data": {
      "text/plain": [
       "VS2     8805\n",
       "VS1     8419\n",
       "SI1     7236\n",
       "VVS2    4959\n",
       "VVS1    4024\n",
       "SI2     3379\n",
       "IF      2631\n",
       "FL       463\n",
       "I1        83\n",
       "I2         1\n",
       "Name: clarity, dtype: int64"
      ]
     },
     "execution_count": 25,
     "metadata": {},
     "output_type": "execute_result"
    }
   ],
   "source": [
    "vc = diamonds['clarity'].value_counts()\n",
    "vc"
   ]
  },
  {
   "cell_type": "code",
   "execution_count": 26,
   "metadata": {},
   "outputs": [
    {
     "data": {
      "text/plain": [
       "I2    1\n",
       "Name: clarity, dtype: int64"
      ]
     },
     "execution_count": 26,
     "metadata": {},
     "output_type": "execute_result"
    }
   ],
   "source": [
    "threshold = 10\n",
    "filt = vc < threshold\n",
    "vc[filt]"
   ]
  },
  {
   "cell_type": "code",
   "execution_count": 27,
   "metadata": {},
   "outputs": [
    {
     "data": {
      "text/plain": [
       "['I2']"
      ]
     },
     "execution_count": 27,
     "metadata": {},
     "output_type": "execute_result"
    }
   ],
   "source": [
    "low_clarity = vc[filt].index.tolist()\n",
    "low_clarity"
   ]
  },
  {
   "cell_type": "code",
   "execution_count": 28,
   "metadata": {},
   "outputs": [],
   "source": [
    "filt_clarity = diamonds['clarity'].isin(low_clarity)"
   ]
  },
  {
   "cell_type": "code",
   "execution_count": 29,
   "metadata": {},
   "outputs": [],
   "source": [
    "outliers = ((diamonds['x'] < 3) | (diamonds['y'] > 30) | (diamonds['z'] > 20) | \n",
    "            (diamonds['carat'] > 5) | (diamonds['depth'] < 45) | (diamonds['depth'] > 75) |\n",
    "            (diamonds['table'] < 40) | (diamonds['table'] > 90) | filt_clarity).astype(int)"
   ]
  },
  {
   "cell_type": "code",
   "execution_count": 31,
   "metadata": {},
   "outputs": [],
   "source": [
    "diamonds['outliers'] = outliers"
   ]
  },
  {
   "cell_type": "markdown",
   "metadata": {},
   "source": [
    "### Easy to filter for outliers now"
   ]
  },
  {
   "cell_type": "code",
   "execution_count": 32,
   "metadata": {},
   "outputs": [
    {
     "data": {
      "text/html": [
       "<div>\n",
       "<style scoped>\n",
       "    .dataframe tbody tr th:only-of-type {\n",
       "        vertical-align: middle;\n",
       "    }\n",
       "\n",
       "    .dataframe tbody tr th {\n",
       "        vertical-align: top;\n",
       "    }\n",
       "\n",
       "    .dataframe thead th {\n",
       "        text-align: right;\n",
       "    }\n",
       "</style>\n",
       "<table border=\"1\" class=\"dataframe\">\n",
       "  <thead>\n",
       "    <tr style=\"text-align: right;\">\n",
       "      <th></th>\n",
       "      <th>cut</th>\n",
       "      <th>color</th>\n",
       "      <th>clarity</th>\n",
       "      <th>carat</th>\n",
       "      <th>shape</th>\n",
       "      <th>cert</th>\n",
       "      <th>x</th>\n",
       "      <th>y</th>\n",
       "      <th>z</th>\n",
       "      <th>depth</th>\n",
       "      <th>table</th>\n",
       "      <th>price</th>\n",
       "      <th>outliers</th>\n",
       "    </tr>\n",
       "  </thead>\n",
       "  <tbody>\n",
       "    <tr>\n",
       "      <th>1</th>\n",
       "      <td>Ideal</td>\n",
       "      <td>D</td>\n",
       "      <td>FL</td>\n",
       "      <td>20.28</td>\n",
       "      <td>Emerald</td>\n",
       "      <td>GIA</td>\n",
       "      <td>17.32</td>\n",
       "      <td>14.50</td>\n",
       "      <td>8.83</td>\n",
       "      <td>60.9</td>\n",
       "      <td>67.0</td>\n",
       "      <td>3046290</td>\n",
       "      <td>1</td>\n",
       "    </tr>\n",
       "    <tr>\n",
       "      <th>2</th>\n",
       "      <td>V.Good</td>\n",
       "      <td>D</td>\n",
       "      <td>FL</td>\n",
       "      <td>20.28</td>\n",
       "      <td>Emerald</td>\n",
       "      <td>GIA</td>\n",
       "      <td>17.32</td>\n",
       "      <td>14.50</td>\n",
       "      <td>8.83</td>\n",
       "      <td>60.9</td>\n",
       "      <td>67.0</td>\n",
       "      <td>2980508</td>\n",
       "      <td>1</td>\n",
       "    </tr>\n",
       "    <tr>\n",
       "      <th>3</th>\n",
       "      <td>Ideal</td>\n",
       "      <td>F</td>\n",
       "      <td>VVS1</td>\n",
       "      <td>20.32</td>\n",
       "      <td>Round</td>\n",
       "      <td>GIA</td>\n",
       "      <td>17.64</td>\n",
       "      <td>17.55</td>\n",
       "      <td>10.83</td>\n",
       "      <td>61.6</td>\n",
       "      <td>55.0</td>\n",
       "      <td>2723138</td>\n",
       "      <td>1</td>\n",
       "    </tr>\n",
       "    <tr>\n",
       "      <th>4</th>\n",
       "      <td>Ideal</td>\n",
       "      <td>D</td>\n",
       "      <td>VVS1</td>\n",
       "      <td>20.25</td>\n",
       "      <td>Round</td>\n",
       "      <td>GIA</td>\n",
       "      <td>17.61</td>\n",
       "      <td>17.72</td>\n",
       "      <td>10.61</td>\n",
       "      <td>60.1</td>\n",
       "      <td>58.0</td>\n",
       "      <td>2693429</td>\n",
       "      <td>1</td>\n",
       "    </tr>\n",
       "    <tr>\n",
       "      <th>5</th>\n",
       "      <td>Ideal</td>\n",
       "      <td>D</td>\n",
       "      <td>VVS1</td>\n",
       "      <td>20.25</td>\n",
       "      <td>Round</td>\n",
       "      <td>GIA</td>\n",
       "      <td>17.72</td>\n",
       "      <td>17.61</td>\n",
       "      <td>10.61</td>\n",
       "      <td>60.1</td>\n",
       "      <td>58.0</td>\n",
       "      <td>2679980</td>\n",
       "      <td>1</td>\n",
       "    </tr>\n",
       "  </tbody>\n",
       "</table>\n",
       "</div>"
      ],
      "text/plain": [
       "      cut color clarity  carat    shape cert      x      y      z  depth  \\\n",
       "1   Ideal     D      FL  20.28  Emerald  GIA  17.32  14.50   8.83   60.9   \n",
       "2  V.Good     D      FL  20.28  Emerald  GIA  17.32  14.50   8.83   60.9   \n",
       "3   Ideal     F    VVS1  20.32    Round  GIA  17.64  17.55  10.83   61.6   \n",
       "4   Ideal     D    VVS1  20.25    Round  GIA  17.61  17.72  10.61   60.1   \n",
       "5   Ideal     D    VVS1  20.25    Round  GIA  17.72  17.61  10.61   60.1   \n",
       "\n",
       "   table    price  outliers  \n",
       "1   67.0  3046290         1  \n",
       "2   67.0  2980508         1  \n",
       "3   55.0  2723138         1  \n",
       "4   58.0  2693429         1  \n",
       "5   58.0  2679980         1  "
      ]
     },
     "execution_count": 32,
     "metadata": {},
     "output_type": "execute_result"
    }
   ],
   "source": [
    "filt = diamonds['outliers'] == 1\n",
    "diamonds[filt].head()"
   ]
  },
  {
   "cell_type": "markdown",
   "metadata": {},
   "source": [
    "### Duplicated rows\n",
    "Let's use the `duplicated` method to find any rows that are exactly duplicated. Let's save them for later examination."
   ]
  },
  {
   "cell_type": "code",
   "execution_count": 33,
   "metadata": {},
   "outputs": [
    {
     "data": {
      "text/html": [
       "<div>\n",
       "<style scoped>\n",
       "    .dataframe tbody tr th:only-of-type {\n",
       "        vertical-align: middle;\n",
       "    }\n",
       "\n",
       "    .dataframe tbody tr th {\n",
       "        vertical-align: top;\n",
       "    }\n",
       "\n",
       "    .dataframe thead th {\n",
       "        text-align: right;\n",
       "    }\n",
       "</style>\n",
       "<table border=\"1\" class=\"dataframe\">\n",
       "  <thead>\n",
       "    <tr style=\"text-align: right;\">\n",
       "      <th></th>\n",
       "      <th>cut</th>\n",
       "      <th>color</th>\n",
       "      <th>clarity</th>\n",
       "      <th>carat</th>\n",
       "      <th>shape</th>\n",
       "      <th>cert</th>\n",
       "      <th>x</th>\n",
       "      <th>y</th>\n",
       "      <th>z</th>\n",
       "      <th>depth</th>\n",
       "      <th>table</th>\n",
       "      <th>price</th>\n",
       "      <th>outliers</th>\n",
       "    </tr>\n",
       "  </thead>\n",
       "  <tbody>\n",
       "    <tr>\n",
       "      <th>416</th>\n",
       "      <td>Ideal</td>\n",
       "      <td>G</td>\n",
       "      <td>VS2</td>\n",
       "      <td>9.05</td>\n",
       "      <td>Radiant</td>\n",
       "      <td>GIA</td>\n",
       "      <td>12.51</td>\n",
       "      <td>12.01</td>\n",
       "      <td>7.55</td>\n",
       "      <td>62.9</td>\n",
       "      <td>75.0</td>\n",
       "      <td>335051</td>\n",
       "      <td>1</td>\n",
       "    </tr>\n",
       "    <tr>\n",
       "      <th>417</th>\n",
       "      <td>Ideal</td>\n",
       "      <td>G</td>\n",
       "      <td>VS2</td>\n",
       "      <td>9.05</td>\n",
       "      <td>Radiant</td>\n",
       "      <td>GIA</td>\n",
       "      <td>12.51</td>\n",
       "      <td>12.01</td>\n",
       "      <td>7.55</td>\n",
       "      <td>62.9</td>\n",
       "      <td>75.0</td>\n",
       "      <td>335051</td>\n",
       "      <td>1</td>\n",
       "    </tr>\n",
       "    <tr>\n",
       "      <th>418</th>\n",
       "      <td>Ideal</td>\n",
       "      <td>G</td>\n",
       "      <td>VS2</td>\n",
       "      <td>9.05</td>\n",
       "      <td>Radiant</td>\n",
       "      <td>GIA</td>\n",
       "      <td>12.51</td>\n",
       "      <td>12.01</td>\n",
       "      <td>7.55</td>\n",
       "      <td>62.9</td>\n",
       "      <td>75.0</td>\n",
       "      <td>335051</td>\n",
       "      <td>1</td>\n",
       "    </tr>\n",
       "    <tr>\n",
       "      <th>419</th>\n",
       "      <td>Ideal</td>\n",
       "      <td>G</td>\n",
       "      <td>VS2</td>\n",
       "      <td>9.05</td>\n",
       "      <td>Radiant</td>\n",
       "      <td>GIA</td>\n",
       "      <td>12.51</td>\n",
       "      <td>12.01</td>\n",
       "      <td>7.55</td>\n",
       "      <td>62.9</td>\n",
       "      <td>75.0</td>\n",
       "      <td>335051</td>\n",
       "      <td>1</td>\n",
       "    </tr>\n",
       "    <tr>\n",
       "      <th>420</th>\n",
       "      <td>Ideal</td>\n",
       "      <td>G</td>\n",
       "      <td>VS2</td>\n",
       "      <td>9.05</td>\n",
       "      <td>Radiant</td>\n",
       "      <td>GIA</td>\n",
       "      <td>12.51</td>\n",
       "      <td>12.01</td>\n",
       "      <td>7.55</td>\n",
       "      <td>62.9</td>\n",
       "      <td>75.0</td>\n",
       "      <td>335051</td>\n",
       "      <td>1</td>\n",
       "    </tr>\n",
       "    <tr>\n",
       "      <th>421</th>\n",
       "      <td>Ideal</td>\n",
       "      <td>G</td>\n",
       "      <td>VS2</td>\n",
       "      <td>9.05</td>\n",
       "      <td>Radiant</td>\n",
       "      <td>GIA</td>\n",
       "      <td>12.51</td>\n",
       "      <td>12.01</td>\n",
       "      <td>7.55</td>\n",
       "      <td>62.9</td>\n",
       "      <td>75.0</td>\n",
       "      <td>335051</td>\n",
       "      <td>1</td>\n",
       "    </tr>\n",
       "    <tr>\n",
       "      <th>422</th>\n",
       "      <td>Ideal</td>\n",
       "      <td>G</td>\n",
       "      <td>VS2</td>\n",
       "      <td>9.05</td>\n",
       "      <td>Radiant</td>\n",
       "      <td>GIA</td>\n",
       "      <td>12.51</td>\n",
       "      <td>12.01</td>\n",
       "      <td>7.55</td>\n",
       "      <td>62.9</td>\n",
       "      <td>75.0</td>\n",
       "      <td>335051</td>\n",
       "      <td>1</td>\n",
       "    </tr>\n",
       "    <tr>\n",
       "      <th>559</th>\n",
       "      <td>Ideal</td>\n",
       "      <td>G</td>\n",
       "      <td>SI2</td>\n",
       "      <td>10.29</td>\n",
       "      <td>Cushion</td>\n",
       "      <td>GIA</td>\n",
       "      <td>12.69</td>\n",
       "      <td>12.35</td>\n",
       "      <td>8.32</td>\n",
       "      <td>67.4</td>\n",
       "      <td>73.0</td>\n",
       "      <td>286570</td>\n",
       "      <td>1</td>\n",
       "    </tr>\n",
       "    <tr>\n",
       "      <th>560</th>\n",
       "      <td>Ideal</td>\n",
       "      <td>G</td>\n",
       "      <td>SI2</td>\n",
       "      <td>10.29</td>\n",
       "      <td>Cushion</td>\n",
       "      <td>GIA</td>\n",
       "      <td>12.69</td>\n",
       "      <td>12.35</td>\n",
       "      <td>8.32</td>\n",
       "      <td>67.4</td>\n",
       "      <td>73.0</td>\n",
       "      <td>286570</td>\n",
       "      <td>1</td>\n",
       "    </tr>\n",
       "    <tr>\n",
       "      <th>561</th>\n",
       "      <td>Ideal</td>\n",
       "      <td>G</td>\n",
       "      <td>SI2</td>\n",
       "      <td>10.29</td>\n",
       "      <td>Cushion</td>\n",
       "      <td>GIA</td>\n",
       "      <td>12.69</td>\n",
       "      <td>12.35</td>\n",
       "      <td>8.32</td>\n",
       "      <td>67.4</td>\n",
       "      <td>73.0</td>\n",
       "      <td>286570</td>\n",
       "      <td>1</td>\n",
       "    </tr>\n",
       "  </tbody>\n",
       "</table>\n",
       "</div>"
      ],
      "text/plain": [
       "       cut color clarity  carat    shape cert      x      y     z  depth  \\\n",
       "416  Ideal     G     VS2   9.05  Radiant  GIA  12.51  12.01  7.55   62.9   \n",
       "417  Ideal     G     VS2   9.05  Radiant  GIA  12.51  12.01  7.55   62.9   \n",
       "418  Ideal     G     VS2   9.05  Radiant  GIA  12.51  12.01  7.55   62.9   \n",
       "419  Ideal     G     VS2   9.05  Radiant  GIA  12.51  12.01  7.55   62.9   \n",
       "420  Ideal     G     VS2   9.05  Radiant  GIA  12.51  12.01  7.55   62.9   \n",
       "421  Ideal     G     VS2   9.05  Radiant  GIA  12.51  12.01  7.55   62.9   \n",
       "422  Ideal     G     VS2   9.05  Radiant  GIA  12.51  12.01  7.55   62.9   \n",
       "559  Ideal     G     SI2  10.29  Cushion  GIA  12.69  12.35  8.32   67.4   \n",
       "560  Ideal     G     SI2  10.29  Cushion  GIA  12.69  12.35  8.32   67.4   \n",
       "561  Ideal     G     SI2  10.29  Cushion  GIA  12.69  12.35  8.32   67.4   \n",
       "\n",
       "     table   price  outliers  \n",
       "416   75.0  335051         1  \n",
       "417   75.0  335051         1  \n",
       "418   75.0  335051         1  \n",
       "419   75.0  335051         1  \n",
       "420   75.0  335051         1  \n",
       "421   75.0  335051         1  \n",
       "422   75.0  335051         1  \n",
       "559   73.0  286570         1  \n",
       "560   73.0  286570         1  \n",
       "561   73.0  286570         1  "
      ]
     },
     "execution_count": 33,
     "metadata": {},
     "output_type": "execute_result"
    }
   ],
   "source": [
    "filt = diamonds.duplicated(keep=False)\n",
    "dupes = diamonds[filt]\n",
    "dupes.head(10)"
   ]
  },
  {
   "cell_type": "markdown",
   "metadata": {},
   "source": [
    "# Your Turn #4\n",
    "Try and discover outliers and duplicated rows."
   ]
  },
  {
   "cell_type": "code",
   "execution_count": null,
   "metadata": {},
   "outputs": [],
   "source": [
    "# Code over there"
   ]
  },
  {
   "cell_type": "markdown",
   "metadata": {},
   "source": [
    "# Bivariate and Multivariate EDA\n",
    "Look way back at [the table summarizing](#Summarizing) the types of graphical and non-graphical tools for the different combinations of variables.\n",
    "\n",
    "* categorical vs categorical\n",
    "* categorical vs continuous\n",
    "* continuous vs continuous"
   ]
  },
  {
   "cell_type": "markdown",
   "metadata": {},
   "source": [
    "## Categorical vs Categorical\n",
    "Let's create two-way contingency tables and heat maps to help show the distribution."
   ]
  },
  {
   "cell_type": "code",
   "execution_count": 34,
   "metadata": {},
   "outputs": [
    {
     "data": {
      "text/html": [
       "<div>\n",
       "<style scoped>\n",
       "    .dataframe tbody tr th:only-of-type {\n",
       "        vertical-align: middle;\n",
       "    }\n",
       "\n",
       "    .dataframe tbody tr th {\n",
       "        vertical-align: top;\n",
       "    }\n",
       "\n",
       "    .dataframe thead th {\n",
       "        text-align: right;\n",
       "    }\n",
       "</style>\n",
       "<table border=\"1\" class=\"dataframe\">\n",
       "  <thead>\n",
       "    <tr style=\"text-align: right;\">\n",
       "      <th>color</th>\n",
       "      <th>L</th>\n",
       "      <th>K</th>\n",
       "      <th>J</th>\n",
       "      <th>I</th>\n",
       "      <th>H</th>\n",
       "      <th>G</th>\n",
       "      <th>F</th>\n",
       "      <th>E</th>\n",
       "      <th>D</th>\n",
       "    </tr>\n",
       "    <tr>\n",
       "      <th>clarity</th>\n",
       "      <th></th>\n",
       "      <th></th>\n",
       "      <th></th>\n",
       "      <th></th>\n",
       "      <th></th>\n",
       "      <th></th>\n",
       "      <th></th>\n",
       "      <th></th>\n",
       "      <th></th>\n",
       "    </tr>\n",
       "  </thead>\n",
       "  <tbody>\n",
       "    <tr>\n",
       "      <th>I2</th>\n",
       "      <td>NaN</td>\n",
       "      <td>NaN</td>\n",
       "      <td>NaN</td>\n",
       "      <td>NaN</td>\n",
       "      <td>NaN</td>\n",
       "      <td>1.0</td>\n",
       "      <td>NaN</td>\n",
       "      <td>NaN</td>\n",
       "      <td>NaN</td>\n",
       "    </tr>\n",
       "    <tr>\n",
       "      <th>I1</th>\n",
       "      <td>1.0</td>\n",
       "      <td>10.0</td>\n",
       "      <td>16.0</td>\n",
       "      <td>10.0</td>\n",
       "      <td>14.0</td>\n",
       "      <td>6.0</td>\n",
       "      <td>9.0</td>\n",
       "      <td>8.0</td>\n",
       "      <td>9.0</td>\n",
       "    </tr>\n",
       "    <tr>\n",
       "      <th>SI2</th>\n",
       "      <td>28.0</td>\n",
       "      <td>137.0</td>\n",
       "      <td>413.0</td>\n",
       "      <td>602.0</td>\n",
       "      <td>601.0</td>\n",
       "      <td>573.0</td>\n",
       "      <td>379.0</td>\n",
       "      <td>327.0</td>\n",
       "      <td>319.0</td>\n",
       "    </tr>\n",
       "    <tr>\n",
       "      <th>SI1</th>\n",
       "      <td>53.0</td>\n",
       "      <td>202.0</td>\n",
       "      <td>600.0</td>\n",
       "      <td>835.0</td>\n",
       "      <td>912.0</td>\n",
       "      <td>1258.0</td>\n",
       "      <td>1274.0</td>\n",
       "      <td>1114.0</td>\n",
       "      <td>988.0</td>\n",
       "    </tr>\n",
       "    <tr>\n",
       "      <th>VS2</th>\n",
       "      <td>89.0</td>\n",
       "      <td>250.0</td>\n",
       "      <td>668.0</td>\n",
       "      <td>897.0</td>\n",
       "      <td>1092.0</td>\n",
       "      <td>1575.0</td>\n",
       "      <td>1549.0</td>\n",
       "      <td>1368.0</td>\n",
       "      <td>1317.0</td>\n",
       "    </tr>\n",
       "    <tr>\n",
       "      <th>VS1</th>\n",
       "      <td>66.0</td>\n",
       "      <td>179.0</td>\n",
       "      <td>504.0</td>\n",
       "      <td>801.0</td>\n",
       "      <td>1215.0</td>\n",
       "      <td>1464.0</td>\n",
       "      <td>1453.0</td>\n",
       "      <td>1454.0</td>\n",
       "      <td>1283.0</td>\n",
       "    </tr>\n",
       "    <tr>\n",
       "      <th>VVS2</th>\n",
       "      <td>44.0</td>\n",
       "      <td>104.0</td>\n",
       "      <td>363.0</td>\n",
       "      <td>527.0</td>\n",
       "      <td>717.0</td>\n",
       "      <td>793.0</td>\n",
       "      <td>819.0</td>\n",
       "      <td>691.0</td>\n",
       "      <td>901.0</td>\n",
       "    </tr>\n",
       "    <tr>\n",
       "      <th>VVS1</th>\n",
       "      <td>20.0</td>\n",
       "      <td>71.0</td>\n",
       "      <td>216.0</td>\n",
       "      <td>301.0</td>\n",
       "      <td>478.0</td>\n",
       "      <td>661.0</td>\n",
       "      <td>794.0</td>\n",
       "      <td>719.0</td>\n",
       "      <td>764.0</td>\n",
       "    </tr>\n",
       "    <tr>\n",
       "      <th>IF</th>\n",
       "      <td>12.0</td>\n",
       "      <td>41.0</td>\n",
       "      <td>75.0</td>\n",
       "      <td>120.0</td>\n",
       "      <td>205.0</td>\n",
       "      <td>326.0</td>\n",
       "      <td>418.0</td>\n",
       "      <td>374.0</td>\n",
       "      <td>1060.0</td>\n",
       "    </tr>\n",
       "    <tr>\n",
       "      <th>FL</th>\n",
       "      <td>NaN</td>\n",
       "      <td>NaN</td>\n",
       "      <td>6.0</td>\n",
       "      <td>17.0</td>\n",
       "      <td>8.0</td>\n",
       "      <td>19.0</td>\n",
       "      <td>28.0</td>\n",
       "      <td>42.0</td>\n",
       "      <td>343.0</td>\n",
       "    </tr>\n",
       "  </tbody>\n",
       "</table>\n",
       "</div>"
      ],
      "text/plain": [
       "color       L      K      J      I       H       G       F       E       D\n",
       "clarity                                                                   \n",
       "I2        NaN    NaN    NaN    NaN     NaN     1.0     NaN     NaN     NaN\n",
       "I1        1.0   10.0   16.0   10.0    14.0     6.0     9.0     8.0     9.0\n",
       "SI2      28.0  137.0  413.0  602.0   601.0   573.0   379.0   327.0   319.0\n",
       "SI1      53.0  202.0  600.0  835.0   912.0  1258.0  1274.0  1114.0   988.0\n",
       "VS2      89.0  250.0  668.0  897.0  1092.0  1575.0  1549.0  1368.0  1317.0\n",
       "VS1      66.0  179.0  504.0  801.0  1215.0  1464.0  1453.0  1454.0  1283.0\n",
       "VVS2     44.0  104.0  363.0  527.0   717.0   793.0   819.0   691.0   901.0\n",
       "VVS1     20.0   71.0  216.0  301.0   478.0   661.0   794.0   719.0   764.0\n",
       "IF       12.0   41.0   75.0  120.0   205.0   326.0   418.0   374.0  1060.0\n",
       "FL        NaN    NaN    6.0   17.0     8.0    19.0    28.0    42.0   343.0"
      ]
     },
     "execution_count": 34,
     "metadata": {},
     "output_type": "execute_result"
    }
   ],
   "source": [
    "col_clar_ct = diamonds.pivot_table(index='clarity', columns='color', aggfunc='size')\n",
    "col_clar_ct"
   ]
  },
  {
   "cell_type": "markdown",
   "metadata": {},
   "source": [
    "A bit easier to use `crosstab`. Automatically counts."
   ]
  },
  {
   "cell_type": "code",
   "execution_count": 35,
   "metadata": {},
   "outputs": [
    {
     "data": {
      "text/html": [
       "<div>\n",
       "<style scoped>\n",
       "    .dataframe tbody tr th:only-of-type {\n",
       "        vertical-align: middle;\n",
       "    }\n",
       "\n",
       "    .dataframe tbody tr th {\n",
       "        vertical-align: top;\n",
       "    }\n",
       "\n",
       "    .dataframe thead th {\n",
       "        text-align: right;\n",
       "    }\n",
       "</style>\n",
       "<table border=\"1\" class=\"dataframe\">\n",
       "  <thead>\n",
       "    <tr style=\"text-align: right;\">\n",
       "      <th>color</th>\n",
       "      <th>L</th>\n",
       "      <th>K</th>\n",
       "      <th>J</th>\n",
       "      <th>I</th>\n",
       "      <th>H</th>\n",
       "      <th>G</th>\n",
       "      <th>F</th>\n",
       "      <th>E</th>\n",
       "      <th>D</th>\n",
       "    </tr>\n",
       "    <tr>\n",
       "      <th>clarity</th>\n",
       "      <th></th>\n",
       "      <th></th>\n",
       "      <th></th>\n",
       "      <th></th>\n",
       "      <th></th>\n",
       "      <th></th>\n",
       "      <th></th>\n",
       "      <th></th>\n",
       "      <th></th>\n",
       "    </tr>\n",
       "  </thead>\n",
       "  <tbody>\n",
       "    <tr>\n",
       "      <th>I2</th>\n",
       "      <td>0</td>\n",
       "      <td>0</td>\n",
       "      <td>0</td>\n",
       "      <td>0</td>\n",
       "      <td>0</td>\n",
       "      <td>1</td>\n",
       "      <td>0</td>\n",
       "      <td>0</td>\n",
       "      <td>0</td>\n",
       "    </tr>\n",
       "    <tr>\n",
       "      <th>I1</th>\n",
       "      <td>1</td>\n",
       "      <td>10</td>\n",
       "      <td>16</td>\n",
       "      <td>10</td>\n",
       "      <td>14</td>\n",
       "      <td>6</td>\n",
       "      <td>9</td>\n",
       "      <td>8</td>\n",
       "      <td>9</td>\n",
       "    </tr>\n",
       "    <tr>\n",
       "      <th>SI2</th>\n",
       "      <td>28</td>\n",
       "      <td>137</td>\n",
       "      <td>413</td>\n",
       "      <td>602</td>\n",
       "      <td>601</td>\n",
       "      <td>573</td>\n",
       "      <td>379</td>\n",
       "      <td>327</td>\n",
       "      <td>319</td>\n",
       "    </tr>\n",
       "    <tr>\n",
       "      <th>SI1</th>\n",
       "      <td>53</td>\n",
       "      <td>202</td>\n",
       "      <td>600</td>\n",
       "      <td>835</td>\n",
       "      <td>912</td>\n",
       "      <td>1258</td>\n",
       "      <td>1274</td>\n",
       "      <td>1114</td>\n",
       "      <td>988</td>\n",
       "    </tr>\n",
       "    <tr>\n",
       "      <th>VS2</th>\n",
       "      <td>89</td>\n",
       "      <td>250</td>\n",
       "      <td>668</td>\n",
       "      <td>897</td>\n",
       "      <td>1092</td>\n",
       "      <td>1575</td>\n",
       "      <td>1549</td>\n",
       "      <td>1368</td>\n",
       "      <td>1317</td>\n",
       "    </tr>\n",
       "    <tr>\n",
       "      <th>VS1</th>\n",
       "      <td>66</td>\n",
       "      <td>179</td>\n",
       "      <td>504</td>\n",
       "      <td>801</td>\n",
       "      <td>1215</td>\n",
       "      <td>1464</td>\n",
       "      <td>1453</td>\n",
       "      <td>1454</td>\n",
       "      <td>1283</td>\n",
       "    </tr>\n",
       "    <tr>\n",
       "      <th>VVS2</th>\n",
       "      <td>44</td>\n",
       "      <td>104</td>\n",
       "      <td>363</td>\n",
       "      <td>527</td>\n",
       "      <td>717</td>\n",
       "      <td>793</td>\n",
       "      <td>819</td>\n",
       "      <td>691</td>\n",
       "      <td>901</td>\n",
       "    </tr>\n",
       "    <tr>\n",
       "      <th>VVS1</th>\n",
       "      <td>20</td>\n",
       "      <td>71</td>\n",
       "      <td>216</td>\n",
       "      <td>301</td>\n",
       "      <td>478</td>\n",
       "      <td>661</td>\n",
       "      <td>794</td>\n",
       "      <td>719</td>\n",
       "      <td>764</td>\n",
       "    </tr>\n",
       "    <tr>\n",
       "      <th>IF</th>\n",
       "      <td>12</td>\n",
       "      <td>41</td>\n",
       "      <td>75</td>\n",
       "      <td>120</td>\n",
       "      <td>205</td>\n",
       "      <td>326</td>\n",
       "      <td>418</td>\n",
       "      <td>374</td>\n",
       "      <td>1060</td>\n",
       "    </tr>\n",
       "    <tr>\n",
       "      <th>FL</th>\n",
       "      <td>0</td>\n",
       "      <td>0</td>\n",
       "      <td>6</td>\n",
       "      <td>17</td>\n",
       "      <td>8</td>\n",
       "      <td>19</td>\n",
       "      <td>28</td>\n",
       "      <td>42</td>\n",
       "      <td>343</td>\n",
       "    </tr>\n",
       "  </tbody>\n",
       "</table>\n",
       "</div>"
      ],
      "text/plain": [
       "color     L    K    J    I     H     G     F     E     D\n",
       "clarity                                                 \n",
       "I2        0    0    0    0     0     1     0     0     0\n",
       "I1        1   10   16   10    14     6     9     8     9\n",
       "SI2      28  137  413  602   601   573   379   327   319\n",
       "SI1      53  202  600  835   912  1258  1274  1114   988\n",
       "VS2      89  250  668  897  1092  1575  1549  1368  1317\n",
       "VS1      66  179  504  801  1215  1464  1453  1454  1283\n",
       "VVS2     44  104  363  527   717   793   819   691   901\n",
       "VVS1     20   71  216  301   478   661   794   719   764\n",
       "IF       12   41   75  120   205   326   418   374  1060\n",
       "FL        0    0    6   17     8    19    28    42   343"
      ]
     },
     "execution_count": 35,
     "metadata": {},
     "output_type": "execute_result"
    }
   ],
   "source": [
    "col_clar_ct = pd.crosstab(diamonds['clarity'], diamonds['color'])\n",
    "col_clar_ct"
   ]
  },
  {
   "cell_type": "markdown",
   "metadata": {},
   "source": [
    "Easier to see areas where data is denser."
   ]
  },
  {
   "cell_type": "code",
   "execution_count": 36,
   "metadata": {},
   "outputs": [
    {
     "data": {
      "text/plain": [
       "<matplotlib.axes._subplots.AxesSubplot at 0x1a1e2df2e8>"
      ]
     },
     "execution_count": 36,
     "metadata": {},
     "output_type": "execute_result"
    },
    {
     "data": {
      "image/png": "[encoded data removed]",
      "text/plain": [
       "<matplotlib.figure.Figure at 0x1a1e0c6c50>"
      ]
     },
     "metadata": {},
     "output_type": "display_data"
    }
   ],
   "source": [
    "# bulk of the data is in the middle\n",
    "sns.heatmap(col_clar_ct)"
   ]
  },
  {
   "cell_type": "code",
   "execution_count": 37,
   "metadata": {},
   "outputs": [
    {
     "data": {
      "text/html": [
       "<div>\n",
       "<style scoped>\n",
       "    .dataframe tbody tr th:only-of-type {\n",
       "        vertical-align: middle;\n",
       "    }\n",
       "\n",
       "    .dataframe tbody tr th {\n",
       "        vertical-align: top;\n",
       "    }\n",
       "\n",
       "    .dataframe thead th {\n",
       "        text-align: right;\n",
       "    }\n",
       "</style>\n",
       "<table border=\"1\" class=\"dataframe\">\n",
       "  <thead>\n",
       "    <tr style=\"text-align: right;\">\n",
       "      <th>color</th>\n",
       "      <th>L</th>\n",
       "      <th>K</th>\n",
       "      <th>J</th>\n",
       "      <th>I</th>\n",
       "      <th>H</th>\n",
       "      <th>G</th>\n",
       "      <th>F</th>\n",
       "      <th>E</th>\n",
       "      <th>D</th>\n",
       "    </tr>\n",
       "    <tr>\n",
       "      <th>cut</th>\n",
       "      <th></th>\n",
       "      <th></th>\n",
       "      <th></th>\n",
       "      <th></th>\n",
       "      <th></th>\n",
       "      <th></th>\n",
       "      <th></th>\n",
       "      <th></th>\n",
       "      <th></th>\n",
       "    </tr>\n",
       "  </thead>\n",
       "  <tbody>\n",
       "    <tr>\n",
       "      <th>Good</th>\n",
       "      <td>25</td>\n",
       "      <td>63</td>\n",
       "      <td>164</td>\n",
       "      <td>184</td>\n",
       "      <td>244</td>\n",
       "      <td>347</td>\n",
       "      <td>378</td>\n",
       "      <td>332</td>\n",
       "      <td>406</td>\n",
       "    </tr>\n",
       "    <tr>\n",
       "      <th>V.Good</th>\n",
       "      <td>52</td>\n",
       "      <td>142</td>\n",
       "      <td>637</td>\n",
       "      <td>944</td>\n",
       "      <td>1201</td>\n",
       "      <td>1502</td>\n",
       "      <td>1547</td>\n",
       "      <td>1404</td>\n",
       "      <td>1441</td>\n",
       "    </tr>\n",
       "    <tr>\n",
       "      <th>Ideal</th>\n",
       "      <td>236</td>\n",
       "      <td>789</td>\n",
       "      <td>2060</td>\n",
       "      <td>2982</td>\n",
       "      <td>3797</td>\n",
       "      <td>4827</td>\n",
       "      <td>4798</td>\n",
       "      <td>4361</td>\n",
       "      <td>5137</td>\n",
       "    </tr>\n",
       "  </tbody>\n",
       "</table>\n",
       "</div>"
      ],
      "text/plain": [
       "color     L    K     J     I     H     G     F     E     D\n",
       "cut                                                       \n",
       "Good     25   63   164   184   244   347   378   332   406\n",
       "V.Good   52  142   637   944  1201  1502  1547  1404  1441\n",
       "Ideal   236  789  2060  2982  3797  4827  4798  4361  5137"
      ]
     },
     "execution_count": 37,
     "metadata": {},
     "output_type": "execute_result"
    }
   ],
   "source": [
    "cut_color_ct = pd.crosstab(diamonds['cut'], diamonds['color'])\n",
    "cut_color_ct"
   ]
  },
  {
   "cell_type": "code",
   "execution_count": 38,
   "metadata": {},
   "outputs": [
    {
     "data": {
      "text/plain": [
       "<matplotlib.axes._subplots.AxesSubplot at 0x1a1ddf1358>"
      ]
     },
     "execution_count": 38,
     "metadata": {},
     "output_type": "execute_result"
    },
    {
     "data": {
      "image/png": "[encoded data removed]",
      "text/plain": [
       "<matplotlib.figure.Figure at 0x1a1dac3d68>"
      ]
     },
     "metadata": {},
     "output_type": "display_data"
    }
   ],
   "source": [
    "sns.heatmap(cut_color_ct)"
   ]
  },
  {
   "cell_type": "markdown",
   "metadata": {},
   "source": [
    "## Normalize results\n",
    "Set `normalize` to \"index\", \"columns\", or \"all\"."
   ]
  },
  {
   "cell_type": "code",
   "execution_count": 39,
   "metadata": {},
   "outputs": [
    {
     "data": {
      "text/html": [
       "<div>\n",
       "<style scoped>\n",
       "    .dataframe tbody tr th:only-of-type {\n",
       "        vertical-align: middle;\n",
       "    }\n",
       "\n",
       "    .dataframe tbody tr th {\n",
       "        vertical-align: top;\n",
       "    }\n",
       "\n",
       "    .dataframe thead th {\n",
       "        text-align: right;\n",
       "    }\n",
       "</style>\n",
       "<table border=\"1\" class=\"dataframe\">\n",
       "  <thead>\n",
       "    <tr style=\"text-align: right;\">\n",
       "      <th>color</th>\n",
       "      <th>L</th>\n",
       "      <th>K</th>\n",
       "      <th>J</th>\n",
       "      <th>I</th>\n",
       "      <th>H</th>\n",
       "      <th>G</th>\n",
       "      <th>F</th>\n",
       "      <th>E</th>\n",
       "      <th>D</th>\n",
       "    </tr>\n",
       "    <tr>\n",
       "      <th>cut</th>\n",
       "      <th></th>\n",
       "      <th></th>\n",
       "      <th></th>\n",
       "      <th></th>\n",
       "      <th></th>\n",
       "      <th></th>\n",
       "      <th></th>\n",
       "      <th></th>\n",
       "      <th></th>\n",
       "    </tr>\n",
       "  </thead>\n",
       "  <tbody>\n",
       "    <tr>\n",
       "      <th>Good</th>\n",
       "      <td>0.011666</td>\n",
       "      <td>0.029398</td>\n",
       "      <td>0.076528</td>\n",
       "      <td>0.085861</td>\n",
       "      <td>0.113859</td>\n",
       "      <td>0.161923</td>\n",
       "      <td>0.176388</td>\n",
       "      <td>0.154923</td>\n",
       "      <td>0.189454</td>\n",
       "    </tr>\n",
       "    <tr>\n",
       "      <th>V.Good</th>\n",
       "      <td>0.005862</td>\n",
       "      <td>0.016009</td>\n",
       "      <td>0.071815</td>\n",
       "      <td>0.106426</td>\n",
       "      <td>0.135400</td>\n",
       "      <td>0.169335</td>\n",
       "      <td>0.174408</td>\n",
       "      <td>0.158286</td>\n",
       "      <td>0.162458</td>\n",
       "    </tr>\n",
       "    <tr>\n",
       "      <th>Ideal</th>\n",
       "      <td>0.008142</td>\n",
       "      <td>0.027219</td>\n",
       "      <td>0.071066</td>\n",
       "      <td>0.102874</td>\n",
       "      <td>0.130990</td>\n",
       "      <td>0.166523</td>\n",
       "      <td>0.165522</td>\n",
       "      <td>0.150447</td>\n",
       "      <td>0.177217</td>\n",
       "    </tr>\n",
       "  </tbody>\n",
       "</table>\n",
       "</div>"
      ],
      "text/plain": [
       "color          L         K         J         I         H         G         F  \\\n",
       "cut                                                                            \n",
       "Good    0.011666  0.029398  0.076528  0.085861  0.113859  0.161923  0.176388   \n",
       "V.Good  0.005862  0.016009  0.071815  0.106426  0.135400  0.169335  0.174408   \n",
       "Ideal   0.008142  0.027219  0.071066  0.102874  0.130990  0.166523  0.165522   \n",
       "\n",
       "color          E         D  \n",
       "cut                         \n",
       "Good    0.154923  0.189454  \n",
       "V.Good  0.158286  0.162458  \n",
       "Ideal   0.150447  0.177217  "
      ]
     },
     "execution_count": 39,
     "metadata": {},
     "output_type": "execute_result"
    }
   ],
   "source": [
    "cut_color_ct_norm = pd.crosstab(diamonds['cut'], diamonds['color'], normalize='index')\n",
    "cut_color_ct_norm"
   ]
  },
  {
   "cell_type": "code",
   "execution_count": 40,
   "metadata": {},
   "outputs": [
    {
     "data": {
      "text/plain": [
       "<matplotlib.axes._subplots.AxesSubplot at 0x1a1ddc3710>"
      ]
     },
     "execution_count": 40,
     "metadata": {},
     "output_type": "execute_result"
    },
    {
     "data": {
      "image/png": "[encoded data removed]",
      "text/plain": [
       "<matplotlib.figure.Figure at 0x1a1f1aef28>"
      ]
     },
     "metadata": {},
     "output_type": "display_data"
    }
   ],
   "source": [
    "sns.heatmap(cut_color_ct_norm)"
   ]
  },
  {
   "cell_type": "markdown",
   "metadata": {},
   "source": [
    "# Your Turn #5\n",
    "Do some analysis on categorical vs categorical data"
   ]
  },
  {
   "cell_type": "code",
   "execution_count": null,
   "metadata": {},
   "outputs": [],
   "source": [
    "# Code over there"
   ]
  },
  {
   "cell_type": "markdown",
   "metadata": {},
   "source": [
    "## Continuous vs Continuous and Categorical vs Continuous\n",
    "All the plots in the categorical section in the [seaborn tutorial](http://seaborn.pydata.org/tutorial/categorical.html) will be of major help here. \n",
    "\n",
    "### A loose problem statement\n",
    "The rest of the notebook will work on discovering how price changes with respect to the other variables."
   ]
  },
  {
   "cell_type": "code",
   "execution_count": 41,
   "metadata": {},
   "outputs": [],
   "source": [
    "ds = diamonds.sample(frac=.1, random_state=1)"
   ]
  },
  {
   "cell_type": "code",
   "execution_count": 42,
   "metadata": {},
   "outputs": [
    {
     "data": {
      "text/plain": [
       "<seaborn.axisgrid.FacetGrid at 0x1a1e38fc88>"
      ]
     },
     "execution_count": 42,
     "metadata": {},
     "output_type": "execute_result"
    },
    {
     "data": {
      "image/png": "[encoded data removed]",
      "text/plain": [
       "<matplotlib.figure.Figure at 0x1a1f160400>"
      ]
     },
     "metadata": {},
     "output_type": "display_data"
    }
   ],
   "source": [
    "sns.lmplot(x='carat', y='price', data=ds)"
   ]
  },
  {
   "cell_type": "code",
   "execution_count": 43,
   "metadata": {},
   "outputs": [
    {
     "data": {
      "image/png": "[encoded data removed]",
      "text/plain": [
       "<matplotlib.figure.Figure at 0x1a1f37dba8>"
      ]
     },
     "metadata": {},
     "output_type": "display_data"
    }
   ],
   "source": [
    "g = sns.lmplot(x='carat', y='price', data=ds, hue='color')\n",
    "g.set(xbound=0, ybound=0)\n",
    "g.fig.set_size_inches(12, 6)"
   ]
  },
  {
   "cell_type": "code",
   "execution_count": 44,
   "metadata": {},
   "outputs": [
    {
     "data": {
      "text/plain": [
       "VS1     859\n",
       "VS2     853\n",
       "SI1     702\n",
       "VVS2    507\n",
       "VVS1    422\n",
       "SI2     318\n",
       "IF      287\n",
       "FL       43\n",
       "I1        9\n",
       "I2        0\n",
       "Name: clarity, dtype: int64"
      ]
     },
     "execution_count": 44,
     "metadata": {},
     "output_type": "execute_result"
    }
   ],
   "source": [
    "ds.clarity.value_counts()"
   ]
  },
  {
   "cell_type": "markdown",
   "metadata": {},
   "source": [
    "## Make categories of carat\n",
    "This will help us avoid a scatterplot."
   ]
  },
  {
   "cell_type": "code",
   "execution_count": 45,
   "metadata": {},
   "outputs": [],
   "source": [
    "diamonds['carat_cat']= pd.qcut(diamonds['carat'], 10)"
   ]
  },
  {
   "cell_type": "code",
   "execution_count": 46,
   "metadata": {
    "scrolled": true
   },
   "outputs": [
    {
     "data": {
      "image/png": "[encoded data removed]",
      "text/plain": [
       "<matplotlib.figure.Figure at 0x1a1f3b42b0>"
      ]
     },
     "metadata": {},
     "output_type": "display_data"
    }
   ],
   "source": [
    "ax = sns.barplot(x='carat_cat', y='price', data=diamonds)\n",
    "ax.figure.set_size_inches(12, 5)"
   ]
  },
  {
   "cell_type": "code",
   "execution_count": 47,
   "metadata": {},
   "outputs": [
    {
     "data": {
      "image/png": "[encoded data removed]",
      "text/plain": [
       "<matplotlib.figure.Figure at 0x1a1f22f550>"
      ]
     },
     "metadata": {},
     "output_type": "display_data"
    }
   ],
   "source": [
    "ax = sns.barplot(x='carat_cat', y='price', data=diamonds, hue='clarity')\n",
    "ax.figure.set_size_inches((16, 5))"
   ]
  },
  {
   "cell_type": "code",
   "execution_count": 48,
   "metadata": {},
   "outputs": [
    {
     "data": {
      "text/plain": [
       "<seaborn.axisgrid.FacetGrid at 0x1a1ff14940>"
      ]
     },
     "execution_count": 48,
     "metadata": {},
     "output_type": "execute_result"
    },
    {
     "data": {
      "image/png": "[encoded data removed]",
      "text/plain": [
       "<matplotlib.figure.Figure at 0x1a1e13b048>"
      ]
     },
     "metadata": {},
     "output_type": "display_data"
    }
   ],
   "source": [
    "sns.catplot(x='carat_cat', y='price', data=diamonds, col='clarity', kind='bar', col_wrap=3, sharey=False)"
   ]
  },
  {
   "cell_type": "markdown",
   "metadata": {},
   "source": [
    "# Your Turn #6\n",
    "Make some plots on categorical vs continuous variables"
   ]
  },
  {
   "cell_type": "code",
   "execution_count": null,
   "metadata": {},
   "outputs": [],
   "source": []
  }
 ],
 "metadata": {
  "kernelspec": {
   "display_name": "Python 3",
   "language": "python",
   "name": "python3"
  },
  "language_info": {
   "codemirror_mode": {
    "name": "ipython",
    "version": 3
   },
   "file_extension": ".py",
   "mimetype": "text/x-python",
   "name": "python",
   "nbconvert_exporter": "python",
   "pygments_lexer": "ipython3",
   "version": "3.6.2"
  }
 },
 "nbformat": 4,
 "nbformat_minor": 2
}
