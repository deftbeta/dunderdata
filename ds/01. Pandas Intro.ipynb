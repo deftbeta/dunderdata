{
 "cells": [
  {
   "cell_type": "markdown",
   "metadata": {},
   "source": [
    "# 1. Pandas Intro\n",
    "\n",
    "### Resources\n",
    "+ [Pandas Official Documentation!](http://pandas.pydata.org/pandas-docs/stable/)"
   ]
  },
  {
   "cell_type": "markdown",
   "metadata": {},
   "source": [
    "# Welcome to Pandas\n",
    "\n",
    "### What is Pandas?\n",
    "Pandas is one of the better open source data exploration libraries currently available. It gives the user power to explore, manipulate, query, aggregate, and visualize **tabular** data. Tabular meaning data that is two dimensional with rows and columns, i.e. a table.\n",
    "\n",
    "\n",
    "### NumPy\n",
    "NumPy ('numerical Python') is the most popular third-party Python library for scientific computing and forms the foundation for dozens of others, including Pandas. NumPy's primary data structure is a fast n-dimensional array.\n",
    "\n",
    "### Pandas is built directly on NumPy\n",
    "You can think of Pandas as a higher-level, easier to use interface to doing data analysis than NumPy."
   ]
  },
  {
   "cell_type": "markdown",
   "metadata": {},
   "source": [
    "# The DataFrame - the primary data structure in Pandas\n",
    "\n",
    "The **DataFrame** is our two-dimensional data structure that looks like any other table of data you have seen with rows and columns.\n",
    "\n",
    "![](images/Components of a DataFrame.png)\n",
    "\n",
    "\n",
    "# Import Pandas and read in data\n",
    "By convention pandas is imported and aliased as **`pd`**. We will read in the **`bikes`** dataset with the **`read_csv`** function. Its first parameter is the location of the file relative to the current directory.\n"
   ]
  },
  {
   "cell_type": "code",
   "execution_count": 2,
   "metadata": {},
   "outputs": [],
   "source": [
    "import pandas as pd\n",
    "bikes = pd.read_csv('data/bikes.csv')"
   ]
  },
  {
   "cell_type": "markdown",
   "metadata": {},
   "source": [
    "## Display DataFrame in Jupyter Notebook\n",
    "\n",
    "We assigned our DataFrame to the **`bikes`** variable. Let's output just the first 5 rows with the **`head`** method."
   ]
  },
  {
   "cell_type": "code",
   "execution_count": 3,
   "metadata": {},
   "outputs": [
    {
     "data": {
      "text/html": [
       "<div>\n",
       "<style scoped>\n",
       "    .dataframe tbody tr th:only-of-type {\n",
       "        vertical-align: middle;\n",
       "    }\n",
       "\n",
       "    .dataframe tbody tr th {\n",
       "        vertical-align: top;\n",
       "    }\n",
       "\n",
       "    .dataframe thead th {\n",
       "        text-align: right;\n",
       "    }\n",
       "</style>\n",
       "<table border=\"1\" class=\"dataframe\">\n",
       "  <thead>\n",
       "    <tr style=\"text-align: right;\">\n",
       "      <th></th>\n",
       "      <th>trip_id</th>\n",
       "      <th>usertype</th>\n",
       "      <th>gender</th>\n",
       "      <th>starttime</th>\n",
       "      <th>stoptime</th>\n",
       "      <th>tripduration</th>\n",
       "      <th>from_station_name</th>\n",
       "      <th>latitude_start</th>\n",
       "      <th>longitude_start</th>\n",
       "      <th>dpcapacity_start</th>\n",
       "      <th>to_station_name</th>\n",
       "      <th>latitude_end</th>\n",
       "      <th>longitude_end</th>\n",
       "      <th>dpcapacity_end</th>\n",
       "      <th>temperature</th>\n",
       "      <th>visibility</th>\n",
       "      <th>wind_speed</th>\n",
       "      <th>precipitation</th>\n",
       "      <th>events</th>\n",
       "    </tr>\n",
       "  </thead>\n",
       "  <tbody>\n",
       "    <tr>\n",
       "      <th>0</th>\n",
       "      <td>7147</td>\n",
       "      <td>Subscriber</td>\n",
       "      <td>Male</td>\n",
       "      <td>2013-06-28 19:01:00</td>\n",
       "      <td>2013-06-28 19:17:00</td>\n",
       "      <td>993</td>\n",
       "      <td>Lake Shore Dr &amp; Monroe St</td>\n",
       "      <td>41.881050</td>\n",
       "      <td>-87.616970</td>\n",
       "      <td>11.0</td>\n",
       "      <td>Michigan Ave &amp; Oak St</td>\n",
       "      <td>41.900960</td>\n",
       "      <td>-87.623777</td>\n",
       "      <td>15.0</td>\n",
       "      <td>73.9</td>\n",
       "      <td>10.0</td>\n",
       "      <td>12.7</td>\n",
       "      <td>-9999.0</td>\n",
       "      <td>mostlycloudy</td>\n",
       "    </tr>\n",
       "    <tr>\n",
       "      <th>1</th>\n",
       "      <td>7524</td>\n",
       "      <td>Subscriber</td>\n",
       "      <td>Male</td>\n",
       "      <td>2013-06-28 22:53:00</td>\n",
       "      <td>2013-06-28 23:03:00</td>\n",
       "      <td>623</td>\n",
       "      <td>Clinton St &amp; Washington Blvd</td>\n",
       "      <td>41.883380</td>\n",
       "      <td>-87.641170</td>\n",
       "      <td>31.0</td>\n",
       "      <td>Wells St &amp; Walton St</td>\n",
       "      <td>41.899930</td>\n",
       "      <td>-87.634430</td>\n",
       "      <td>19.0</td>\n",
       "      <td>69.1</td>\n",
       "      <td>10.0</td>\n",
       "      <td>6.9</td>\n",
       "      <td>-9999.0</td>\n",
       "      <td>partlycloudy</td>\n",
       "    </tr>\n",
       "    <tr>\n",
       "      <th>2</th>\n",
       "      <td>10927</td>\n",
       "      <td>Subscriber</td>\n",
       "      <td>Male</td>\n",
       "      <td>2013-06-30 14:43:00</td>\n",
       "      <td>2013-06-30 15:01:00</td>\n",
       "      <td>1040</td>\n",
       "      <td>Sheffield Ave &amp; Kingsbury St</td>\n",
       "      <td>41.909592</td>\n",
       "      <td>-87.653497</td>\n",
       "      <td>15.0</td>\n",
       "      <td>Dearborn St &amp; Monroe St</td>\n",
       "      <td>41.881320</td>\n",
       "      <td>-87.629521</td>\n",
       "      <td>23.0</td>\n",
       "      <td>73.0</td>\n",
       "      <td>10.0</td>\n",
       "      <td>16.1</td>\n",
       "      <td>-9999.0</td>\n",
       "      <td>mostlycloudy</td>\n",
       "    </tr>\n",
       "    <tr>\n",
       "      <th>3</th>\n",
       "      <td>12907</td>\n",
       "      <td>Subscriber</td>\n",
       "      <td>Male</td>\n",
       "      <td>2013-07-01 10:05:00</td>\n",
       "      <td>2013-07-01 10:16:00</td>\n",
       "      <td>667</td>\n",
       "      <td>Carpenter St &amp; Huron St</td>\n",
       "      <td>41.894556</td>\n",
       "      <td>-87.653449</td>\n",
       "      <td>19.0</td>\n",
       "      <td>Clark St &amp; Randolph St</td>\n",
       "      <td>41.884576</td>\n",
       "      <td>-87.631890</td>\n",
       "      <td>31.0</td>\n",
       "      <td>72.0</td>\n",
       "      <td>10.0</td>\n",
       "      <td>16.1</td>\n",
       "      <td>-9999.0</td>\n",
       "      <td>mostlycloudy</td>\n",
       "    </tr>\n",
       "    <tr>\n",
       "      <th>4</th>\n",
       "      <td>13168</td>\n",
       "      <td>Subscriber</td>\n",
       "      <td>Male</td>\n",
       "      <td>2013-07-01 11:16:00</td>\n",
       "      <td>2013-07-01 11:18:00</td>\n",
       "      <td>130</td>\n",
       "      <td>Damen Ave &amp; Pierce Ave</td>\n",
       "      <td>41.909396</td>\n",
       "      <td>-87.677692</td>\n",
       "      <td>19.0</td>\n",
       "      <td>Damen Ave &amp; Pierce Ave</td>\n",
       "      <td>41.909396</td>\n",
       "      <td>-87.677692</td>\n",
       "      <td>19.0</td>\n",
       "      <td>73.0</td>\n",
       "      <td>10.0</td>\n",
       "      <td>17.3</td>\n",
       "      <td>-9999.0</td>\n",
       "      <td>partlycloudy</td>\n",
       "    </tr>\n",
       "  </tbody>\n",
       "</table>\n",
       "</div>"
      ],
      "text/plain": [
       "   trip_id    usertype gender            starttime             stoptime  \\\n",
       "0     7147  Subscriber   Male  2013-06-28 19:01:00  2013-06-28 19:17:00   \n",
       "1     7524  Subscriber   Male  2013-06-28 22:53:00  2013-06-28 23:03:00   \n",
       "2    10927  Subscriber   Male  2013-06-30 14:43:00  2013-06-30 15:01:00   \n",
       "3    12907  Subscriber   Male  2013-07-01 10:05:00  2013-07-01 10:16:00   \n",
       "4    13168  Subscriber   Male  2013-07-01 11:16:00  2013-07-01 11:18:00   \n",
       "\n",
       "   tripduration             from_station_name  latitude_start  \\\n",
       "0           993     Lake Shore Dr & Monroe St       41.881050   \n",
       "1           623  Clinton St & Washington Blvd       41.883380   \n",
       "2          1040  Sheffield Ave & Kingsbury St       41.909592   \n",
       "3           667       Carpenter St & Huron St       41.894556   \n",
       "4           130        Damen Ave & Pierce Ave       41.909396   \n",
       "\n",
       "   longitude_start  dpcapacity_start          to_station_name  latitude_end  \\\n",
       "0       -87.616970              11.0    Michigan Ave & Oak St     41.900960   \n",
       "1       -87.641170              31.0     Wells St & Walton St     41.899930   \n",
       "2       -87.653497              15.0  Dearborn St & Monroe St     41.881320   \n",
       "3       -87.653449              19.0   Clark St & Randolph St     41.884576   \n",
       "4       -87.677692              19.0   Damen Ave & Pierce Ave     41.909396   \n",
       "\n",
       "   longitude_end  dpcapacity_end  temperature  visibility  wind_speed  \\\n",
       "0     -87.623777            15.0         73.9        10.0        12.7   \n",
       "1     -87.634430            19.0         69.1        10.0         6.9   \n",
       "2     -87.629521            23.0         73.0        10.0        16.1   \n",
       "3     -87.631890            31.0         72.0        10.0        16.1   \n",
       "4     -87.677692            19.0         73.0        10.0        17.3   \n",
       "\n",
       "   precipitation        events  \n",
       "0        -9999.0  mostlycloudy  \n",
       "1        -9999.0  partlycloudy  \n",
       "2        -9999.0  mostlycloudy  \n",
       "3        -9999.0  mostlycloudy  \n",
       "4        -9999.0  partlycloudy  "
      ]
     },
     "execution_count": 3,
     "metadata": {},
     "output_type": "execute_result"
    }
   ],
   "source": [
    "bikes.head()"
   ]
  },
  {
   "cell_type": "markdown",
   "metadata": {},
   "source": [
    "## First and Last `n` rows\n",
    "Both the **`head`** and **`tail`** methods take a single parameter **`n`** which control the number of rows to return:"
   ]
  },
  {
   "cell_type": "code",
   "execution_count": 4,
   "metadata": {},
   "outputs": [
    {
     "data": {
      "text/html": [
       "<div>\n",
       "<style scoped>\n",
       "    .dataframe tbody tr th:only-of-type {\n",
       "        vertical-align: middle;\n",
       "    }\n",
       "\n",
       "    .dataframe tbody tr th {\n",
       "        vertical-align: top;\n",
       "    }\n",
       "\n",
       "    .dataframe thead th {\n",
       "        text-align: right;\n",
       "    }\n",
       "</style>\n",
       "<table border=\"1\" class=\"dataframe\">\n",
       "  <thead>\n",
       "    <tr style=\"text-align: right;\">\n",
       "      <th></th>\n",
       "      <th>trip_id</th>\n",
       "      <th>usertype</th>\n",
       "      <th>gender</th>\n",
       "      <th>starttime</th>\n",
       "      <th>stoptime</th>\n",
       "      <th>tripduration</th>\n",
       "      <th>from_station_name</th>\n",
       "      <th>latitude_start</th>\n",
       "      <th>longitude_start</th>\n",
       "      <th>dpcapacity_start</th>\n",
       "      <th>to_station_name</th>\n",
       "      <th>latitude_end</th>\n",
       "      <th>longitude_end</th>\n",
       "      <th>dpcapacity_end</th>\n",
       "      <th>temperature</th>\n",
       "      <th>visibility</th>\n",
       "      <th>wind_speed</th>\n",
       "      <th>precipitation</th>\n",
       "      <th>events</th>\n",
       "    </tr>\n",
       "  </thead>\n",
       "  <tbody>\n",
       "    <tr>\n",
       "      <th>50081</th>\n",
       "      <td>17534131</td>\n",
       "      <td>Subscriber</td>\n",
       "      <td>Male</td>\n",
       "      <td>2017-12-29 16:09:00</td>\n",
       "      <td>2017-12-29 16:19:00</td>\n",
       "      <td>617</td>\n",
       "      <td>Kingsbury St &amp; Erie St</td>\n",
       "      <td>41.893882</td>\n",
       "      <td>-87.641711</td>\n",
       "      <td>23.0</td>\n",
       "      <td>Canal St &amp; Adams St</td>\n",
       "      <td>41.879255</td>\n",
       "      <td>-87.639904</td>\n",
       "      <td>47.0</td>\n",
       "      <td>14.0</td>\n",
       "      <td>1.5</td>\n",
       "      <td>6.9</td>\n",
       "      <td>0.0</td>\n",
       "      <td>snow</td>\n",
       "    </tr>\n",
       "    <tr>\n",
       "      <th>50082</th>\n",
       "      <td>17534773</td>\n",
       "      <td>Subscriber</td>\n",
       "      <td>Male</td>\n",
       "      <td>2017-12-30 10:47:00</td>\n",
       "      <td>2017-12-30 10:53:00</td>\n",
       "      <td>363</td>\n",
       "      <td>Larrabee St &amp; Oak St</td>\n",
       "      <td>41.900219</td>\n",
       "      <td>-87.642985</td>\n",
       "      <td>19.0</td>\n",
       "      <td>Halsted St &amp; Blackhawk St (*)</td>\n",
       "      <td>41.908537</td>\n",
       "      <td>-87.648627</td>\n",
       "      <td>20.0</td>\n",
       "      <td>3.9</td>\n",
       "      <td>10.0</td>\n",
       "      <td>13.8</td>\n",
       "      <td>-9999.0</td>\n",
       "      <td>mostlycloudy</td>\n",
       "    </tr>\n",
       "    <tr>\n",
       "      <th>50083</th>\n",
       "      <td>17534831</td>\n",
       "      <td>Subscriber</td>\n",
       "      <td>Male</td>\n",
       "      <td>2017-12-30 11:36:00</td>\n",
       "      <td>2017-12-30 11:55:00</td>\n",
       "      <td>1175</td>\n",
       "      <td>Western Ave &amp; Walton St</td>\n",
       "      <td>41.898418</td>\n",
       "      <td>-87.686596</td>\n",
       "      <td>19.0</td>\n",
       "      <td>Damen Ave &amp; Clybourn Ave</td>\n",
       "      <td>41.931931</td>\n",
       "      <td>-87.677856</td>\n",
       "      <td>15.0</td>\n",
       "      <td>3.9</td>\n",
       "      <td>10.0</td>\n",
       "      <td>13.8</td>\n",
       "      <td>-9999.0</td>\n",
       "      <td>partlycloudy</td>\n",
       "    </tr>\n",
       "    <tr>\n",
       "      <th>50084</th>\n",
       "      <td>17534938</td>\n",
       "      <td>Subscriber</td>\n",
       "      <td>Male</td>\n",
       "      <td>2017-12-30 13:07:00</td>\n",
       "      <td>2017-12-30 13:34:00</td>\n",
       "      <td>1625</td>\n",
       "      <td>State St &amp; Pearson St</td>\n",
       "      <td>41.897448</td>\n",
       "      <td>-87.628722</td>\n",
       "      <td>27.0</td>\n",
       "      <td>Clark St &amp; Elm St</td>\n",
       "      <td>41.902973</td>\n",
       "      <td>-87.631280</td>\n",
       "      <td>27.0</td>\n",
       "      <td>5.0</td>\n",
       "      <td>10.0</td>\n",
       "      <td>16.1</td>\n",
       "      <td>-9999.0</td>\n",
       "      <td>partlycloudy</td>\n",
       "    </tr>\n",
       "    <tr>\n",
       "      <th>50085</th>\n",
       "      <td>17534969</td>\n",
       "      <td>Subscriber</td>\n",
       "      <td>Male</td>\n",
       "      <td>2017-12-30 13:34:00</td>\n",
       "      <td>2017-12-30 13:44:00</td>\n",
       "      <td>585</td>\n",
       "      <td>Halsted St &amp; 35th St (*)</td>\n",
       "      <td>41.830661</td>\n",
       "      <td>-87.647172</td>\n",
       "      <td>16.0</td>\n",
       "      <td>Union Ave &amp; Root St</td>\n",
       "      <td>41.819102</td>\n",
       "      <td>-87.643278</td>\n",
       "      <td>11.0</td>\n",
       "      <td>5.0</td>\n",
       "      <td>10.0</td>\n",
       "      <td>16.1</td>\n",
       "      <td>-9999.0</td>\n",
       "      <td>partlycloudy</td>\n",
       "    </tr>\n",
       "    <tr>\n",
       "      <th>50086</th>\n",
       "      <td>17534972</td>\n",
       "      <td>Subscriber</td>\n",
       "      <td>Male</td>\n",
       "      <td>2017-12-30 13:34:00</td>\n",
       "      <td>2017-12-30 13:48:00</td>\n",
       "      <td>824</td>\n",
       "      <td>Kingsbury St &amp; Kinzie St</td>\n",
       "      <td>41.889177</td>\n",
       "      <td>-87.638506</td>\n",
       "      <td>31.0</td>\n",
       "      <td>Halsted St &amp; Blackhawk St (*)</td>\n",
       "      <td>41.908537</td>\n",
       "      <td>-87.648627</td>\n",
       "      <td>20.0</td>\n",
       "      <td>5.0</td>\n",
       "      <td>10.0</td>\n",
       "      <td>16.1</td>\n",
       "      <td>-9999.0</td>\n",
       "      <td>partlycloudy</td>\n",
       "    </tr>\n",
       "    <tr>\n",
       "      <th>50087</th>\n",
       "      <td>17535645</td>\n",
       "      <td>Subscriber</td>\n",
       "      <td>Female</td>\n",
       "      <td>2017-12-31 09:30:00</td>\n",
       "      <td>2017-12-31 09:33:00</td>\n",
       "      <td>178</td>\n",
       "      <td>Clinton St &amp; Lake St</td>\n",
       "      <td>41.885637</td>\n",
       "      <td>-87.641823</td>\n",
       "      <td>23.0</td>\n",
       "      <td>Kingsbury St &amp; Kinzie St</td>\n",
       "      <td>41.889177</td>\n",
       "      <td>-87.638506</td>\n",
       "      <td>31.0</td>\n",
       "      <td>7.0</td>\n",
       "      <td>10.0</td>\n",
       "      <td>11.5</td>\n",
       "      <td>-9999.0</td>\n",
       "      <td>partlycloudy</td>\n",
       "    </tr>\n",
       "    <tr>\n",
       "      <th>50088</th>\n",
       "      <td>17536246</td>\n",
       "      <td>Subscriber</td>\n",
       "      <td>Male</td>\n",
       "      <td>2017-12-31 15:22:00</td>\n",
       "      <td>2017-12-31 15:26:00</td>\n",
       "      <td>214</td>\n",
       "      <td>Clarendon Ave &amp; Leland Ave</td>\n",
       "      <td>41.967968</td>\n",
       "      <td>-87.650001</td>\n",
       "      <td>15.0</td>\n",
       "      <td>Clifton Ave &amp; Lawrence Ave</td>\n",
       "      <td>41.968812</td>\n",
       "      <td>-87.657659</td>\n",
       "      <td>15.0</td>\n",
       "      <td>10.9</td>\n",
       "      <td>10.0</td>\n",
       "      <td>15.0</td>\n",
       "      <td>-9999.0</td>\n",
       "      <td>partlycloudy</td>\n",
       "    </tr>\n",
       "  </tbody>\n",
       "</table>\n",
       "</div>"
      ],
      "text/plain": [
       "        trip_id    usertype  gender            starttime             stoptime  \\\n",
       "50081  17534131  Subscriber    Male  2017-12-29 16:09:00  2017-12-29 16:19:00   \n",
       "50082  17534773  Subscriber    Male  2017-12-30 10:47:00  2017-12-30 10:53:00   \n",
       "50083  17534831  Subscriber    Male  2017-12-30 11:36:00  2017-12-30 11:55:00   \n",
       "50084  17534938  Subscriber    Male  2017-12-30 13:07:00  2017-12-30 13:34:00   \n",
       "50085  17534969  Subscriber    Male  2017-12-30 13:34:00  2017-12-30 13:44:00   \n",
       "50086  17534972  Subscriber    Male  2017-12-30 13:34:00  2017-12-30 13:48:00   \n",
       "50087  17535645  Subscriber  Female  2017-12-31 09:30:00  2017-12-31 09:33:00   \n",
       "50088  17536246  Subscriber    Male  2017-12-31 15:22:00  2017-12-31 15:26:00   \n",
       "\n",
       "       tripduration           from_station_name  latitude_start  \\\n",
       "50081           617      Kingsbury St & Erie St       41.893882   \n",
       "50082           363        Larrabee St & Oak St       41.900219   \n",
       "50083          1175     Western Ave & Walton St       41.898418   \n",
       "50084          1625       State St & Pearson St       41.897448   \n",
       "50085           585    Halsted St & 35th St (*)       41.830661   \n",
       "50086           824    Kingsbury St & Kinzie St       41.889177   \n",
       "50087           178        Clinton St & Lake St       41.885637   \n",
       "50088           214  Clarendon Ave & Leland Ave       41.967968   \n",
       "\n",
       "       longitude_start  dpcapacity_start                to_station_name  \\\n",
       "50081       -87.641711              23.0            Canal St & Adams St   \n",
       "50082       -87.642985              19.0  Halsted St & Blackhawk St (*)   \n",
       "50083       -87.686596              19.0       Damen Ave & Clybourn Ave   \n",
       "50084       -87.628722              27.0              Clark St & Elm St   \n",
       "50085       -87.647172              16.0            Union Ave & Root St   \n",
       "50086       -87.638506              31.0  Halsted St & Blackhawk St (*)   \n",
       "50087       -87.641823              23.0       Kingsbury St & Kinzie St   \n",
       "50088       -87.650001              15.0     Clifton Ave & Lawrence Ave   \n",
       "\n",
       "       latitude_end  longitude_end  dpcapacity_end  temperature  visibility  \\\n",
       "50081     41.879255     -87.639904            47.0         14.0         1.5   \n",
       "50082     41.908537     -87.648627            20.0          3.9        10.0   \n",
       "50083     41.931931     -87.677856            15.0          3.9        10.0   \n",
       "50084     41.902973     -87.631280            27.0          5.0        10.0   \n",
       "50085     41.819102     -87.643278            11.0          5.0        10.0   \n",
       "50086     41.908537     -87.648627            20.0          5.0        10.0   \n",
       "50087     41.889177     -87.638506            31.0          7.0        10.0   \n",
       "50088     41.968812     -87.657659            15.0         10.9        10.0   \n",
       "\n",
       "       wind_speed  precipitation        events  \n",
       "50081         6.9            0.0          snow  \n",
       "50082        13.8        -9999.0  mostlycloudy  \n",
       "50083        13.8        -9999.0  partlycloudy  \n",
       "50084        16.1        -9999.0  partlycloudy  \n",
       "50085        16.1        -9999.0  partlycloudy  \n",
       "50086        16.1        -9999.0  partlycloudy  \n",
       "50087        11.5        -9999.0  partlycloudy  \n",
       "50088        15.0        -9999.0  partlycloudy  "
      ]
     },
     "execution_count": 4,
     "metadata": {},
     "output_type": "execute_result"
    }
   ],
   "source": [
    "bikes.tail(8)"
   ]
  },
  {
   "cell_type": "markdown",
   "metadata": {},
   "source": [
    "# What type of object is `bikes`\n",
    "As we said previously **`bikes`** is a DataFrame. Let's verify this. Only the name after the last dot is the actual class name."
   ]
  },
  {
   "cell_type": "code",
   "execution_count": 5,
   "metadata": {},
   "outputs": [
    {
     "data": {
      "text/plain": [
       "pandas.core.frame.DataFrame"
      ]
     },
     "execution_count": 5,
     "metadata": {},
     "output_type": "execute_result"
    }
   ],
   "source": [
    "type(bikes)"
   ]
  },
  {
   "cell_type": "markdown",
   "metadata": {},
   "source": [
    "# Select a single column from a DataFrame - a Series\n",
    "To select a single column from a DataFrame, pass the name of one of the columns to the indexing operator, **`[]`**. The returned object will be a Pandas Series. Let's choose the column name **`tripduration`**, assign it to a variable, and output it to the screen."
   ]
  },
  {
   "cell_type": "code",
   "execution_count": 6,
   "metadata": {},
   "outputs": [
    {
     "data": {
      "text/plain": [
       "0     993\n",
       "1     623\n",
       "2    1040\n",
       "3     667\n",
       "4     130\n",
       "Name: tripduration, dtype: int64"
      ]
     },
     "execution_count": 6,
     "metadata": {},
     "output_type": "execute_result"
    }
   ],
   "source": [
    "trip_duration = bikes['tripduration']\n",
    "trip_duration.head()"
   ]
  },
  {
   "cell_type": "markdown",
   "metadata": {},
   "source": [
    "# Components of a Series - Index and Data\n",
    "A Series is simpler than a DataFrame with just a single dimension of data. It has two components - the **index** and the **data**. It is essentially a one-column DataFrame. Let's take a look at a stylized Series graphic\n",
    "\n",
    "![](images/Components of a Series.png)"
   ]
  },
  {
   "cell_type": "markdown",
   "metadata": {},
   "source": [
    "# Data  Types \n",
    "Each column of data in Pandas DataFrame has a **data type**. This is a very similar concept to types in Python. Just like every object has a type, every column has a data type. Every value in each column must be of the same data type.\n",
    "\n",
    "## Most Common Data Types\n",
    "The following are the most common data types that appear frequently in DataFrames. \n",
    "\n",
    "* **Boolean** - only two values: **`True`** and **`False`**\n",
    "* **Integer** - whole numbers without a decimal\n",
    "* **Float** - numbers with decimals\n",
    "* **Object** - mainly strings\n",
    "* **DateTime** - a specific moment in time\n",
    "\n",
    "\n",
    "# Missing Value Representation, `NaN`,  `None`, and `NaT`\n",
    "Pandas uses different representation based on the data type of the column.\n",
    "\n",
    "# Finding the data types of each column\n",
    "The **`dtypes`** DataFrame method returns the data type of each column. Let's get the data types of our **`bikes`** DataFrame.\n",
    "\n",
    "[1]: https://docs.scipy.org/doc/numpy/neps/missing-data.html"
   ]
  },
  {
   "cell_type": "code",
   "execution_count": 7,
   "metadata": {},
   "outputs": [
    {
     "data": {
      "text/plain": [
       "trip_id                int64\n",
       "usertype              object\n",
       "gender                object\n",
       "starttime             object\n",
       "stoptime              object\n",
       "tripduration           int64\n",
       "from_station_name     object\n",
       "latitude_start       float64\n",
       "longitude_start      float64\n",
       "dpcapacity_start     float64\n",
       "to_station_name       object\n",
       "latitude_end         float64\n",
       "longitude_end        float64\n",
       "dpcapacity_end       float64\n",
       "temperature          float64\n",
       "visibility           float64\n",
       "wind_speed           float64\n",
       "precipitation        float64\n",
       "events                object\n",
       "dtype: object"
      ]
     },
     "execution_count": 7,
     "metadata": {},
     "output_type": "execute_result"
    }
   ],
   "source": [
    "bikes.dtypes"
   ]
  },
  {
   "cell_type": "markdown",
   "metadata": {},
   "source": [
    "# Think string whenever you see object\n",
    "Pandas does not have a string data type like most databases but when you see **object** you should assume that the column consists entirely of strings. While this won't always hold true, in this class and in the vast majority of cases it will be so.\n",
    "\n",
    "# Why are `starttime` and `stoptime` object data types?\n",
    "By default, Pandas reads in columns that look like DateTimes as strings. Use the **`parse_dates`** parameter to inform it which columns should turn into DateTimes."
   ]
  },
  {
   "cell_type": "code",
   "execution_count": 8,
   "metadata": {},
   "outputs": [
    {
     "data": {
      "text/plain": [
       "trip_id                       int64\n",
       "usertype                     object\n",
       "gender                       object\n",
       "starttime            datetime64[ns]\n",
       "stoptime             datetime64[ns]\n",
       "tripduration                  int64\n",
       "from_station_name            object\n",
       "latitude_start              float64\n",
       "longitude_start             float64\n",
       "dpcapacity_start            float64\n",
       "to_station_name              object\n",
       "latitude_end                float64\n",
       "longitude_end               float64\n",
       "dpcapacity_end              float64\n",
       "temperature                 float64\n",
       "visibility                  float64\n",
       "wind_speed                  float64\n",
       "precipitation               float64\n",
       "events                       object\n",
       "dtype: object"
      ]
     },
     "execution_count": 8,
     "metadata": {},
     "output_type": "execute_result"
    }
   ],
   "source": [
    "bikes = pd.read_csv('data/bikes.csv', parse_dates=['starttime', 'stoptime'])\n",
    "bikes.dtypes"
   ]
  },
  {
   "cell_type": "markdown",
   "metadata": {},
   "source": [
    "# Getting more Metadata\n",
    "Metadata is data on the data. The data type of each column is an example of **metadata**. The number of rows and columns is another piece of metadata. We find this with the **`shape`** attribute:"
   ]
  },
  {
   "cell_type": "code",
   "execution_count": 9,
   "metadata": {},
   "outputs": [
    {
     "data": {
      "text/plain": [
       "(50089, 19)"
      ]
     },
     "execution_count": 9,
     "metadata": {},
     "output_type": "execute_result"
    }
   ],
   "source": [
    "bikes.shape"
   ]
  },
  {
   "cell_type": "markdown",
   "metadata": {},
   "source": [
    "### Get Data Types plus more with `info` method\n",
    "The **`info`** DataFrame method retuns output similar to **`dtypes`** but also returns the number of non-missing values in each column."
   ]
  },
  {
   "cell_type": "code",
   "execution_count": 10,
   "metadata": {},
   "outputs": [
    {
     "name": "stdout",
     "output_type": "stream",
     "text": [
      "<class 'pandas.core.frame.DataFrame'>\n",
      "RangeIndex: 50089 entries, 0 to 50088\n",
      "Data columns (total 19 columns):\n",
      "trip_id              50089 non-null int64\n",
      "usertype             50089 non-null object\n",
      "gender               50089 non-null object\n",
      "starttime            50089 non-null datetime64[ns]\n",
      "stoptime             50089 non-null datetime64[ns]\n",
      "tripduration         50089 non-null int64\n",
      "from_station_name    50089 non-null object\n",
      "latitude_start       50083 non-null float64\n",
      "longitude_start      50083 non-null float64\n",
      "dpcapacity_start     50083 non-null float64\n",
      "to_station_name      50089 non-null object\n",
      "latitude_end         50077 non-null float64\n",
      "longitude_end        50077 non-null float64\n",
      "dpcapacity_end       50077 non-null float64\n",
      "temperature          50089 non-null float64\n",
      "visibility           50089 non-null float64\n",
      "wind_speed           50089 non-null float64\n",
      "precipitation        50089 non-null float64\n",
      "events               50089 non-null object\n",
      "dtypes: datetime64[ns](2), float64(10), int64(2), object(5)\n",
      "memory usage: 7.3+ MB\n"
     ]
    }
   ],
   "source": [
    "bikes.info()"
   ]
  },
  {
   "cell_type": "markdown",
   "metadata": {},
   "source": [
    "# Exercises\n",
    "Use the **`bikes`** DataFrame for the following:"
   ]
  },
  {
   "cell_type": "markdown",
   "metadata": {},
   "source": [
    "### Problem 1\n",
    "<span  style=\"color:green; font-size:16px\">Select the column **`events`**, the type of weather that was recorded and assign it to a variable with the same name. Output the first 10 values of it.</span>"
   ]
  },
  {
   "cell_type": "code",
   "execution_count": 13,
   "metadata": {},
   "outputs": [
    {
     "data": {
      "text/plain": [
       "0    mostlycloudy\n",
       "1    partlycloudy\n",
       "2    mostlycloudy\n",
       "3    mostlycloudy\n",
       "4    partlycloudy\n",
       "5    mostlycloudy\n",
       "6          cloudy\n",
       "7          cloudy\n",
       "8          cloudy\n",
       "9    mostlycloudy\n",
       "Name: events, dtype: object"
      ]
     },
     "execution_count": 13,
     "metadata": {},
     "output_type": "execute_result"
    }
   ],
   "source": [
    "events = bikes['events']\n",
    "events.head(10)"
   ]
  },
  {
   "cell_type": "markdown",
   "metadata": {},
   "source": [
    "### Problem 2\n",
    "<span  style=\"color:green; font-size:16px\">What type of object is **`events`**?</span>"
   ]
  },
  {
   "cell_type": "code",
   "execution_count": 15,
   "metadata": {},
   "outputs": [
    {
     "data": {
      "text/plain": [
       "pandas.core.series.Series"
      ]
     },
     "execution_count": 15,
     "metadata": {},
     "output_type": "execute_result"
    }
   ],
   "source": [
    "type(events)"
   ]
  },
  {
   "cell_type": "markdown",
   "metadata": {},
   "source": [
    "### Problem 3\n",
    "<span  style=\"color:green; font-size:16px\">Select the last 2 rows of the **`bikes`** DataFrame and assign it to the variable **`bikes_last_2`**. What type of object is **`bikes_last_2`**?</span>"
   ]
  },
  {
   "cell_type": "code",
   "execution_count": 17,
   "metadata": {},
   "outputs": [],
   "source": [
    "bikes_last_2 = bikes.tail(2)"
   ]
  },
  {
   "cell_type": "markdown",
   "metadata": {},
   "source": [
    "### Problem 4\n",
    "<span  style=\"color:green; font-size:16px\">What type of object is returned from the **`dtypes`** attribute?</span>"
   ]
  },
  {
   "cell_type": "code",
   "execution_count": 18,
   "metadata": {},
   "outputs": [
    {
     "data": {
      "text/plain": [
       "trip_id                       int64\n",
       "usertype                     object\n",
       "gender                       object\n",
       "starttime            datetime64[ns]\n",
       "stoptime             datetime64[ns]\n",
       "tripduration                  int64\n",
       "from_station_name            object\n",
       "latitude_start              float64\n",
       "longitude_start             float64\n",
       "dpcapacity_start            float64\n",
       "to_station_name              object\n",
       "latitude_end                float64\n",
       "longitude_end               float64\n",
       "dpcapacity_end              float64\n",
       "temperature                 float64\n",
       "visibility                  float64\n",
       "wind_speed                  float64\n",
       "precipitation               float64\n",
       "events                       object\n",
       "dtype: object"
      ]
     },
     "execution_count": 18,
     "metadata": {},
     "output_type": "execute_result"
    }
   ],
   "source": [
    "bikes_last_2.dtypes"
   ]
  },
  {
   "cell_type": "code",
   "execution_count": null,
   "metadata": {},
   "outputs": [],
   "source": []
  }
 ],
 "metadata": {
  "anaconda-cloud": {},
  "kernelspec": {
   "display_name": "Python 3",
   "language": "python",
   "name": "python3"
  },
  "language_info": {
   "codemirror_mode": {
    "name": "ipython",
    "version": 3
   },
   "file_extension": ".py",
   "mimetype": "text/x-python",
   "name": "python",
   "nbconvert_exporter": "python",
   "pygments_lexer": "ipython3",
   "version": "3.6.2"
  }
 },
 "nbformat": 4,
 "nbformat_minor": 2
}
